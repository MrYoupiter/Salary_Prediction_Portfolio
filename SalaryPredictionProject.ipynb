{
  "nbformat": 4,
  "nbformat_minor": 0,
  "metadata": {
    "kernelspec": {
      "display_name": "Python 3",
      "language": "python",
      "name": "python3"
    },
    "language_info": {
      "codemirror_mode": {
        "name": "ipython",
        "version": 3
      },
      "file_extension": ".py",
      "mimetype": "text/x-python",
      "name": "python",
      "nbconvert_exporter": "python",
      "pygments_lexer": "ipython3",
      "version": "3.6.4"
    },
    "colab": {
      "name": "SalaryPredictionProject.ipynb",
      "provenance": [],
      "collapsed_sections": [
        "wUFFEDOJEjmx"
      ],
      "include_colab_link": true
    }
  },
  "cells": [
    {
      "cell_type": "markdown",
      "metadata": {
        "id": "view-in-github",
        "colab_type": "text"
      },
      "source": [
        "<a href=\"https://colab.research.google.com/github/danishanis/Salary_Prediction_Portfolio/blob/master/SalaryPredictionProject.ipynb\" target=\"_parent\"><img src=\"https://colab.research.google.com/assets/colab-badge.svg\" alt=\"Open In Colab\"/></a>"
      ]
    },
    {
      "cell_type": "markdown",
      "metadata": {
        "id": "TviQBeUAEjlr",
        "colab_type": "text"
      },
      "source": [
        "# Salary Predictions Based on Job Descriptions\n"
      ]
    },
    {
      "cell_type": "markdown",
      "metadata": {
        "id": "4xOvEG9jJhtI",
        "colab_type": "text"
      },
      "source": [
        "**Author - Danish Anis**\n",
        "\n",
        "**Contact - danishanis10@hotmail.com**"
      ]
    },
    {
      "cell_type": "markdown",
      "metadata": {
        "id": "bN05HkyWEjlt",
        "colab_type": "text"
      },
      "source": [
        "# Part 1 - DEFINE"
      ]
    },
    {
      "cell_type": "markdown",
      "metadata": {
        "id": "HQPvBQ6oEjlv",
        "colab_type": "text"
      },
      "source": [
        "### ---- 1 Define the problem ----"
      ]
    },
    {
      "cell_type": "markdown",
      "metadata": {
        "id": "ac6fYB7YEjlw",
        "colab_type": "text"
      },
      "source": [
        "Predicting the salary for a job position is crucial for a business' HR & talent function for optimizing compensation strategy and talent retention in a highly competetive labour market. The aim of this project is to build a salary prediction model for existing and future job seekers by examining an existing dataset of job postings.\n",
        "\n",
        "The analysis is aimed at explaining every step of the process from defining the problem, discovering dataset, developing model and deploying into production. The model applies data transformation and machine learning on features such as work experience, Job Type, Majors, Industry Type, Degree and Miles from metropolis. The final aim is to predict salary for a job posting based on these available features.\n",
        "\n",
        "The dataset includes available features or labelled columns for analysis as follows:\n",
        "\n",
        "\n",
        "*   **Job ID/jobId** : Given Job ID for the role \n",
        "*   **Company ID** : Company ID for the respective Job ID advertised\n",
        "*   **Degree** : Applicant's qualification/degree \n",
        "*   **Major** : Degree Specialization \n",
        "*   **Industry** : Job ID's categorized industry such as Oil, Auto, Health, Finance etc.\n",
        "*   **Experience (Years)** : Requried Experience for the role\n",
        "*   **Miles from Metropolis** : Distance of the job location in miles from the nearest metropolitan city\n",
        "*   **salary** : In x1000 dollars of the respective Job ID \n",
        "\n",
        "\n"
      ]
    },
    {
      "cell_type": "code",
      "metadata": {
        "id": "Cw99h1HtEjly",
        "colab_type": "code",
        "colab": {}
      },
      "source": [
        "#import your libraries\n",
        "import numpy as np\n",
        "import pandas as pd\n",
        "import matplotlib as matplot\n",
        "import matplotlib.pyplot as plt\n",
        "import seaborn as sns\n",
        "import sklearn as sk"
      ],
      "execution_count": 0,
      "outputs": []
    },
    {
      "cell_type": "markdown",
      "metadata": {
        "id": "EjgWVwKYEjl3",
        "colab_type": "text"
      },
      "source": [
        "# Part 2 - DISCOVER"
      ]
    },
    {
      "cell_type": "markdown",
      "metadata": {
        "id": "YoDhSRIDEjl5",
        "colab_type": "text"
      },
      "source": [
        "### ---- 2 Load the data ----"
      ]
    },
    {
      "cell_type": "code",
      "metadata": {
        "id": "6B9pNP_jC8kL",
        "colab_type": "code",
        "colab": {}
      },
      "source": [
        "#loading data into a pandas dataframe\n",
        "\n",
        "url1 = 'https://raw.githubusercontent.com/danishanis/Salary_Prediction_Portfolio/master/train_features.csv'\n",
        "train_features_df = pd.read_csv(url1)\n",
        "\n",
        "url2 = 'https://raw.githubusercontent.com/danishanis/Salary_Prediction_Portfolio/master/test_features.csv'\n",
        "test_features_df = pd.read_csv(url2)\n",
        "\n",
        "url3 = 'https://raw.githubusercontent.com/danishanis/Salary_Prediction_Portfolio/master/train_salaries.csv'\n",
        "train_salaries_df = pd.read_csv(url3)"
      ],
      "execution_count": 0,
      "outputs": []
    },
    {
      "cell_type": "markdown",
      "metadata": {
        "id": "DBWeT7ULEjl_",
        "colab_type": "text"
      },
      "source": [
        "### ---- 3 Clean the data ----"
      ]
    },
    {
      "cell_type": "code",
      "metadata": {
        "id": "mtJZjfvQPZ7P",
        "colab_type": "code",
        "colab": {}
      },
      "source": [
        "#Renaming columns for ease of exploration\n",
        "\n",
        "train_features_df.rename(columns={'jobId':'Job ID', 'companyId':'Company ID', \n",
        "                                  'jobType':'Job Type','degree':'Degree','major':'Major',\n",
        "                                  'industry':'Industry','yearsExperience':'Experience (Years)',\n",
        "                                 'milesFromMetropolis':'Miles from Metropolis'}, inplace = True)\n",
        "\n",
        "test_features_df.rename(columns={'jobId':'Job ID', 'companyId':'Company ID', \n",
        "                                  'jobType':'Job Type','degree':'Degree','major':'Major',\n",
        "                                  'industry':'Industry','yearsExperience':'Experience (Years)',\n",
        "                                 'milesFromMetropolis':'Miles from Metropolis'}, inplace = True)\n",
        "\n",
        "train_salaries_df.rename(columns={'jobId':'Job ID','salary':'Salary'}, inplace = True)"
      ],
      "execution_count": 0,
      "outputs": []
    },
    {
      "cell_type": "markdown",
      "metadata": {
        "id": "yyS4JdgiV3ok",
        "colab_type": "text"
      },
      "source": [
        "###Verifying that the data is loaded alright by looking at its length, shape and checking values."
      ]
    },
    {
      "cell_type": "code",
      "metadata": {
        "id": "yF0aph4NXSHF",
        "colab_type": "code",
        "outputId": "80b3a9b0-b869-4f11-b94a-39c459920dda",
        "colab": {
          "base_uri": "https://localhost:8080/",
          "height": 238
        }
      },
      "source": [
        "train_features_df.info()"
      ],
      "execution_count": 4,
      "outputs": [
        {
          "output_type": "stream",
          "text": [
            "<class 'pandas.core.frame.DataFrame'>\n",
            "RangeIndex: 1000000 entries, 0 to 999999\n",
            "Data columns (total 8 columns):\n",
            "Job ID                   1000000 non-null object\n",
            "Company ID               1000000 non-null object\n",
            "Job Type                 1000000 non-null object\n",
            "Degree                   1000000 non-null object\n",
            "Major                    1000000 non-null object\n",
            "Industry                 1000000 non-null object\n",
            "Experience (Years)       1000000 non-null int64\n",
            "Miles from Metropolis    1000000 non-null int64\n",
            "dtypes: int64(2), object(6)\n",
            "memory usage: 61.0+ MB\n"
          ],
          "name": "stdout"
        }
      ]
    },
    {
      "cell_type": "code",
      "metadata": {
        "id": "A6QFHqUUXtMQ",
        "colab_type": "code",
        "outputId": "3120b50e-b44f-4103-fe18-956a15f747dd",
        "colab": {
          "base_uri": "https://localhost:8080/",
          "height": 68
        }
      },
      "source": [
        "print(train_features_df.shape)\n",
        "print(test_features_df.shape)\n",
        "print(train_salaries_df.shape)"
      ],
      "execution_count": 5,
      "outputs": [
        {
          "output_type": "stream",
          "text": [
            "(1000000, 8)\n",
            "(1000000, 8)\n",
            "(1000000, 2)\n"
          ],
          "name": "stdout"
        }
      ]
    },
    {
      "cell_type": "markdown",
      "metadata": {
        "id": "TWX_lfjeXdSq",
        "colab_type": "text"
      },
      "source": [
        "Both train and test datasets have the same lengths and data types"
      ]
    },
    {
      "cell_type": "code",
      "metadata": {
        "id": "7Eu_zP89ZenM",
        "colab_type": "code",
        "outputId": "42feedb4-0467-4f9f-c389-364c7a71e09b",
        "colab": {
          "base_uri": "https://localhost:8080/",
          "height": 204
        }
      },
      "source": [
        "train_features_df.head()"
      ],
      "execution_count": 6,
      "outputs": [
        {
          "output_type": "execute_result",
          "data": {
            "text/html": [
              "<div>\n",
              "<style scoped>\n",
              "    .dataframe tbody tr th:only-of-type {\n",
              "        vertical-align: middle;\n",
              "    }\n",
              "\n",
              "    .dataframe tbody tr th {\n",
              "        vertical-align: top;\n",
              "    }\n",
              "\n",
              "    .dataframe thead th {\n",
              "        text-align: right;\n",
              "    }\n",
              "</style>\n",
              "<table border=\"1\" class=\"dataframe\">\n",
              "  <thead>\n",
              "    <tr style=\"text-align: right;\">\n",
              "      <th></th>\n",
              "      <th>Job ID</th>\n",
              "      <th>Company ID</th>\n",
              "      <th>Job Type</th>\n",
              "      <th>Degree</th>\n",
              "      <th>Major</th>\n",
              "      <th>Industry</th>\n",
              "      <th>Experience (Years)</th>\n",
              "      <th>Miles from Metropolis</th>\n",
              "    </tr>\n",
              "  </thead>\n",
              "  <tbody>\n",
              "    <tr>\n",
              "      <th>0</th>\n",
              "      <td>JOB1362684407687</td>\n",
              "      <td>COMP37</td>\n",
              "      <td>CFO</td>\n",
              "      <td>MASTERS</td>\n",
              "      <td>MATH</td>\n",
              "      <td>HEALTH</td>\n",
              "      <td>10</td>\n",
              "      <td>83</td>\n",
              "    </tr>\n",
              "    <tr>\n",
              "      <th>1</th>\n",
              "      <td>JOB1362684407688</td>\n",
              "      <td>COMP19</td>\n",
              "      <td>CEO</td>\n",
              "      <td>HIGH_SCHOOL</td>\n",
              "      <td>NONE</td>\n",
              "      <td>WEB</td>\n",
              "      <td>3</td>\n",
              "      <td>73</td>\n",
              "    </tr>\n",
              "    <tr>\n",
              "      <th>2</th>\n",
              "      <td>JOB1362684407689</td>\n",
              "      <td>COMP52</td>\n",
              "      <td>VICE_PRESIDENT</td>\n",
              "      <td>DOCTORAL</td>\n",
              "      <td>PHYSICS</td>\n",
              "      <td>HEALTH</td>\n",
              "      <td>10</td>\n",
              "      <td>38</td>\n",
              "    </tr>\n",
              "    <tr>\n",
              "      <th>3</th>\n",
              "      <td>JOB1362684407690</td>\n",
              "      <td>COMP38</td>\n",
              "      <td>MANAGER</td>\n",
              "      <td>DOCTORAL</td>\n",
              "      <td>CHEMISTRY</td>\n",
              "      <td>AUTO</td>\n",
              "      <td>8</td>\n",
              "      <td>17</td>\n",
              "    </tr>\n",
              "    <tr>\n",
              "      <th>4</th>\n",
              "      <td>JOB1362684407691</td>\n",
              "      <td>COMP7</td>\n",
              "      <td>VICE_PRESIDENT</td>\n",
              "      <td>BACHELORS</td>\n",
              "      <td>PHYSICS</td>\n",
              "      <td>FINANCE</td>\n",
              "      <td>8</td>\n",
              "      <td>16</td>\n",
              "    </tr>\n",
              "  </tbody>\n",
              "</table>\n",
              "</div>"
            ],
            "text/plain": [
              "             Job ID Company ID  ... Experience (Years) Miles from Metropolis\n",
              "0  JOB1362684407687     COMP37  ...                 10                    83\n",
              "1  JOB1362684407688     COMP19  ...                  3                    73\n",
              "2  JOB1362684407689     COMP52  ...                 10                    38\n",
              "3  JOB1362684407690     COMP38  ...                  8                    17\n",
              "4  JOB1362684407691      COMP7  ...                  8                    16\n",
              "\n",
              "[5 rows x 8 columns]"
            ]
          },
          "metadata": {
            "tags": []
          },
          "execution_count": 6
        }
      ]
    },
    {
      "cell_type": "code",
      "metadata": {
        "id": "WxBWB3K4Y0ti",
        "colab_type": "code",
        "outputId": "cea45385-7dbf-4f76-e045-41bdbf67e51e",
        "colab": {
          "base_uri": "https://localhost:8080/",
          "height": 204
        }
      },
      "source": [
        "train_salaries_df.head()"
      ],
      "execution_count": 7,
      "outputs": [
        {
          "output_type": "execute_result",
          "data": {
            "text/html": [
              "<div>\n",
              "<style scoped>\n",
              "    .dataframe tbody tr th:only-of-type {\n",
              "        vertical-align: middle;\n",
              "    }\n",
              "\n",
              "    .dataframe tbody tr th {\n",
              "        vertical-align: top;\n",
              "    }\n",
              "\n",
              "    .dataframe thead th {\n",
              "        text-align: right;\n",
              "    }\n",
              "</style>\n",
              "<table border=\"1\" class=\"dataframe\">\n",
              "  <thead>\n",
              "    <tr style=\"text-align: right;\">\n",
              "      <th></th>\n",
              "      <th>Job ID</th>\n",
              "      <th>Salary</th>\n",
              "    </tr>\n",
              "  </thead>\n",
              "  <tbody>\n",
              "    <tr>\n",
              "      <th>0</th>\n",
              "      <td>JOB1362684407687</td>\n",
              "      <td>130</td>\n",
              "    </tr>\n",
              "    <tr>\n",
              "      <th>1</th>\n",
              "      <td>JOB1362684407688</td>\n",
              "      <td>101</td>\n",
              "    </tr>\n",
              "    <tr>\n",
              "      <th>2</th>\n",
              "      <td>JOB1362684407689</td>\n",
              "      <td>137</td>\n",
              "    </tr>\n",
              "    <tr>\n",
              "      <th>3</th>\n",
              "      <td>JOB1362684407690</td>\n",
              "      <td>142</td>\n",
              "    </tr>\n",
              "    <tr>\n",
              "      <th>4</th>\n",
              "      <td>JOB1362684407691</td>\n",
              "      <td>163</td>\n",
              "    </tr>\n",
              "  </tbody>\n",
              "</table>\n",
              "</div>"
            ],
            "text/plain": [
              "             Job ID  Salary\n",
              "0  JOB1362684407687     130\n",
              "1  JOB1362684407688     101\n",
              "2  JOB1362684407689     137\n",
              "3  JOB1362684407690     142\n",
              "4  JOB1362684407691     163"
            ]
          },
          "metadata": {
            "tags": []
          },
          "execution_count": 7
        }
      ]
    },
    {
      "cell_type": "code",
      "metadata": {
        "id": "OenSQpJQaRzk",
        "colab_type": "code",
        "outputId": "c608b38d-3dfa-4ae2-ecef-aa82a541e6dd",
        "colab": {
          "base_uri": "https://localhost:8080/",
          "height": 136
        }
      },
      "source": [
        "train_salaries_df.info()"
      ],
      "execution_count": 8,
      "outputs": [
        {
          "output_type": "stream",
          "text": [
            "<class 'pandas.core.frame.DataFrame'>\n",
            "RangeIndex: 1000000 entries, 0 to 999999\n",
            "Data columns (total 2 columns):\n",
            "Job ID    1000000 non-null object\n",
            "Salary    1000000 non-null int64\n",
            "dtypes: int64(1), object(1)\n",
            "memory usage: 15.3+ MB\n"
          ],
          "name": "stdout"
        }
      ]
    },
    {
      "cell_type": "markdown",
      "metadata": {
        "id": "TXlvxfc2Yilt",
        "colab_type": "text"
      },
      "source": [
        "The dataset 'train_salaries_df' has our dependent target variable, Salary info (to be predicted) along with the Job ID. This is the same Job ID as we have in the previous training and testing datasets. Therefore, train_salaries_df is better to be used for testing the built model for its accuracy.\n",
        "\n",
        "For the sake of ease, the Job ID column in target set shall be merged with the training set later. "
      ]
    },
    {
      "cell_type": "markdown",
      "metadata": {
        "id": "ExCTT4BogNQh",
        "colab_type": "text"
      },
      "source": [
        "###Cleaning dataset by checking for and removing any missing values."
      ]
    },
    {
      "cell_type": "code",
      "metadata": {
        "id": "I_V5Sc1VgcWC",
        "colab_type": "code",
        "outputId": "5767f03f-2e4d-41f4-c633-f06ff1f4e8df",
        "colab": {
          "base_uri": "https://localhost:8080/",
          "height": 170
        }
      },
      "source": [
        "train_features_df.isnull().sum()"
      ],
      "execution_count": 9,
      "outputs": [
        {
          "output_type": "execute_result",
          "data": {
            "text/plain": [
              "Job ID                   0\n",
              "Company ID               0\n",
              "Job Type                 0\n",
              "Degree                   0\n",
              "Major                    0\n",
              "Industry                 0\n",
              "Experience (Years)       0\n",
              "Miles from Metropolis    0\n",
              "dtype: int64"
            ]
          },
          "metadata": {
            "tags": []
          },
          "execution_count": 9
        }
      ]
    },
    {
      "cell_type": "code",
      "metadata": {
        "id": "r4UD-FzghSL4",
        "colab_type": "code",
        "outputId": "fda89ead-2bc4-4b48-c0f3-ec349a10c3c9",
        "colab": {
          "base_uri": "https://localhost:8080/",
          "height": 170
        }
      },
      "source": [
        "train_features_df.isnull().sum()"
      ],
      "execution_count": 10,
      "outputs": [
        {
          "output_type": "execute_result",
          "data": {
            "text/plain": [
              "Job ID                   0\n",
              "Company ID               0\n",
              "Job Type                 0\n",
              "Degree                   0\n",
              "Major                    0\n",
              "Industry                 0\n",
              "Experience (Years)       0\n",
              "Miles from Metropolis    0\n",
              "dtype: int64"
            ]
          },
          "metadata": {
            "tags": []
          },
          "execution_count": 10
        }
      ]
    },
    {
      "cell_type": "code",
      "metadata": {
        "id": "KbBoRknmEjmA",
        "colab_type": "code",
        "colab": {}
      },
      "source": [
        "#look for duplicate data, invalid data (e.g. salaries <=0), or corrupt data and remove it"
      ],
      "execution_count": 0,
      "outputs": []
    },
    {
      "cell_type": "markdown",
      "metadata": {
        "id": "RBXUG4rlEjmF",
        "colab_type": "text"
      },
      "source": [
        "### ---- 4 Explore the data (EDA) ----"
      ]
    },
    {
      "cell_type": "code",
      "metadata": {
        "id": "hJkx6FkvEjmG",
        "colab_type": "code",
        "colab": {}
      },
      "source": [
        "#summarize each feature variable\n",
        "#summarize the target variable\n",
        "#look for correlation between each feature and the target\n",
        "#look for correlation between features"
      ],
      "execution_count": 0,
      "outputs": []
    },
    {
      "cell_type": "markdown",
      "metadata": {
        "id": "tI_5U8NVEjmJ",
        "colab_type": "text"
      },
      "source": [
        "### ---- 5 Establish a baseline ----"
      ]
    },
    {
      "cell_type": "code",
      "metadata": {
        "id": "_vim15SIEjmK",
        "colab_type": "code",
        "colab": {}
      },
      "source": [
        "#select a reasonable metric (MSE in this case)\n",
        "#create an extremely simple model and measure its efficacy\n",
        "#e.g. use \"average salary\" for each industry as your model and then measure MSE\n",
        "#during 5-fold cross-validation"
      ],
      "execution_count": 0,
      "outputs": []
    },
    {
      "cell_type": "markdown",
      "metadata": {
        "id": "AOdMCCPCEjmO",
        "colab_type": "text"
      },
      "source": [
        "### ---- 6 Hypothesize solution ----"
      ]
    },
    {
      "cell_type": "code",
      "metadata": {
        "id": "aq__CEmKEjmP",
        "colab_type": "code",
        "colab": {}
      },
      "source": [
        "#brainstorm 3 models that you think may improve results over the baseline model based\n",
        "#on your "
      ],
      "execution_count": 0,
      "outputs": []
    },
    {
      "cell_type": "markdown",
      "metadata": {
        "id": "uMqH-7GDEjmV",
        "colab_type": "text"
      },
      "source": [
        "Brainstorm 3 models that you think may improve results over the baseline model based on your EDA and explain why they're reasonable solutions here.\n",
        "\n",
        "Also write down any new features that you think you should try adding to the model based on your EDA, e.g. interaction variables, summary statistics for each group, etc"
      ]
    },
    {
      "cell_type": "markdown",
      "metadata": {
        "id": "N-iz5GdzEjmX",
        "colab_type": "text"
      },
      "source": [
        "# Part 3 - DEVELOP"
      ]
    },
    {
      "cell_type": "markdown",
      "metadata": {
        "id": "So3BFAVeEjma",
        "colab_type": "text"
      },
      "source": [
        "You will cycle through creating features, tuning models, and training/validing models (steps 7-9) until you've reached your efficacy goal\n",
        "\n",
        "#### Your metric will be MSE and your goal is:\n",
        " - <360 for entry-level data science roles\n",
        " - <320 for senior data science roles"
      ]
    },
    {
      "cell_type": "markdown",
      "metadata": {
        "id": "SH3nnHgEEjmc",
        "colab_type": "text"
      },
      "source": [
        "### ---- 7 Engineer features  ----"
      ]
    },
    {
      "cell_type": "code",
      "metadata": {
        "id": "jOfzW_i8Ejmf",
        "colab_type": "code",
        "colab": {}
      },
      "source": [
        "#make sure that data is ready for modeling\n",
        "#create any new features needed to potentially enhance model"
      ],
      "execution_count": 0,
      "outputs": []
    },
    {
      "cell_type": "markdown",
      "metadata": {
        "id": "ZcK8jIejEjmk",
        "colab_type": "text"
      },
      "source": [
        "### ---- 8 Create models ----"
      ]
    },
    {
      "cell_type": "code",
      "metadata": {
        "id": "CQKYv2lhEjml",
        "colab_type": "code",
        "colab": {}
      },
      "source": [
        "#create and tune the models that you brainstormed during part 2"
      ],
      "execution_count": 0,
      "outputs": []
    },
    {
      "cell_type": "markdown",
      "metadata": {
        "id": "nKwlROojEjmp",
        "colab_type": "text"
      },
      "source": [
        "### ---- 9 Test models ----"
      ]
    },
    {
      "cell_type": "code",
      "metadata": {
        "id": "a6S3U04pEjmq",
        "colab_type": "code",
        "colab": {}
      },
      "source": [
        "#do 5-fold cross validation on models and measure MSE"
      ],
      "execution_count": 0,
      "outputs": []
    },
    {
      "cell_type": "markdown",
      "metadata": {
        "id": "2pBISX3zEjmt",
        "colab_type": "text"
      },
      "source": [
        "### ---- 10 Select best model  ----"
      ]
    },
    {
      "cell_type": "code",
      "metadata": {
        "id": "26wD0jvnEjmu",
        "colab_type": "code",
        "colab": {}
      },
      "source": [
        "#select the model with the lowest error as your \"prodcuction\" model"
      ],
      "execution_count": 0,
      "outputs": []
    },
    {
      "cell_type": "markdown",
      "metadata": {
        "id": "wUFFEDOJEjmx",
        "colab_type": "text"
      },
      "source": [
        "# Part 4 - DEPLOY"
      ]
    },
    {
      "cell_type": "markdown",
      "metadata": {
        "id": "uns2j_e2Ejmy",
        "colab_type": "text"
      },
      "source": [
        "### ---- 11 Automate pipeline ----"
      ]
    },
    {
      "cell_type": "code",
      "metadata": {
        "id": "LcN4JiA6Ejmz",
        "colab_type": "code",
        "colab": {}
      },
      "source": [
        "#write script that trains model on entire training set, saves model to disk,\n",
        "#and scores the \"test\" dataset"
      ],
      "execution_count": 0,
      "outputs": []
    },
    {
      "cell_type": "markdown",
      "metadata": {
        "id": "5HXYBtG6Ejm3",
        "colab_type": "text"
      },
      "source": [
        "### ---- 12 Deploy solution ----"
      ]
    },
    {
      "cell_type": "code",
      "metadata": {
        "id": "3GOwfKZ6Ejm4",
        "colab_type": "code",
        "colab": {}
      },
      "source": [
        "#save your prediction to a csv file or optionally save them as a table in a SQL database\n",
        "#additionally, you want to save a visualization and summary of your prediction and feature importances\n",
        "#these visualizations and summaries will be extremely useful to business stakeholders"
      ],
      "execution_count": 0,
      "outputs": []
    },
    {
      "cell_type": "markdown",
      "metadata": {
        "id": "pSZOOPkQEjm7",
        "colab_type": "text"
      },
      "source": [
        "### ---- 13 Measure efficacy ----"
      ]
    },
    {
      "cell_type": "markdown",
      "metadata": {
        "id": "jH7XpuY0Ejm8",
        "colab_type": "text"
      },
      "source": [
        "We'll skip this step since we don't have the outcomes for the test data"
      ]
    },
    {
      "cell_type": "code",
      "metadata": {
        "id": "fIygVxFiEjm9",
        "colab_type": "code",
        "colab": {}
      },
      "source": [
        ""
      ],
      "execution_count": 0,
      "outputs": []
    },
    {
      "cell_type": "code",
      "metadata": {
        "id": "mrk9yydkEjnD",
        "colab_type": "code",
        "colab": {}
      },
      "source": [
        ""
      ],
      "execution_count": 0,
      "outputs": []
    },
    {
      "cell_type": "code",
      "metadata": {
        "id": "UIOHt-PXEjnN",
        "colab_type": "code",
        "colab": {}
      },
      "source": [
        ""
      ],
      "execution_count": 0,
      "outputs": []
    },
    {
      "cell_type": "code",
      "metadata": {
        "id": "V10f6UPmEjnX",
        "colab_type": "code",
        "colab": {}
      },
      "source": [
        ""
      ],
      "execution_count": 0,
      "outputs": []
    }
  ]
}