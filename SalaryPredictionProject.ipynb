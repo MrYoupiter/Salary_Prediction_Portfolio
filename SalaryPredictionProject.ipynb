{
  "nbformat": 4,
  "nbformat_minor": 0,
  "metadata": {
    "kernelspec": {
      "display_name": "Python 3",
      "language": "python",
      "name": "python3"
    },
    "language_info": {
      "codemirror_mode": {
        "name": "ipython",
        "version": 3
      },
      "file_extension": ".py",
      "mimetype": "text/x-python",
      "name": "python",
      "nbconvert_exporter": "python",
      "pygments_lexer": "ipython3",
      "version": "3.6.4"
    },
    "colab": {
      "name": "SalaryPredictionProject.ipynb",
      "provenance": [],
      "collapsed_sections": [
        "wUFFEDOJEjmx"
      ],
      "include_colab_link": true
    }
  },
  "cells": [
    {
      "cell_type": "markdown",
      "metadata": {
        "id": "view-in-github",
        "colab_type": "text"
      },
      "source": [
        "<a href=\"https://colab.research.google.com/github/danishanis/Salary_Prediction_Portfolio/blob/master/SalaryPredictionProject.ipynb\" target=\"_parent\"><img src=\"https://colab.research.google.com/assets/colab-badge.svg\" alt=\"Open In Colab\"/></a>"
      ]
    },
    {
      "cell_type": "markdown",
      "metadata": {
        "id": "TviQBeUAEjlr",
        "colab_type": "text"
      },
      "source": [
        "# Salary Predictions Based on Job Descriptions\n"
      ]
    },
    {
      "cell_type": "markdown",
      "metadata": {
        "id": "4xOvEG9jJhtI",
        "colab_type": "text"
      },
      "source": [
        "**Author - Danish Anis**\n",
        "\n",
        "**Contact - danishanis10@hotmail.com**"
      ]
    },
    {
      "cell_type": "markdown",
      "metadata": {
        "id": "bN05HkyWEjlt",
        "colab_type": "text"
      },
      "source": [
        "# Part 1 - DEFINE"
      ]
    },
    {
      "cell_type": "markdown",
      "metadata": {
        "id": "HQPvBQ6oEjlv",
        "colab_type": "text"
      },
      "source": [
        "## ---- 1 Define the problem ----"
      ]
    },
    {
      "cell_type": "markdown",
      "metadata": {
        "id": "ac6fYB7YEjlw",
        "colab_type": "text"
      },
      "source": [
        "Predicting the salary for a job position is crucial for a business' HR & talent function for optimizing compensation strategy and talent retention in a highly competetive labour market. The aim of this project is to build a salary prediction model for existing and future job seekers by examining an existing dataset of job postings.\n",
        "\n",
        "The analysis is aimed at explaining every step of the process from defining the problem, discovering dataset, developing model and deploying into production. The model applies data transformation and machine learning on features such as work experience, Job Type, Majors, Industry Type, Degree and Miles from metropolis. The final aim is to predict salary for a job posting based on these available features.\n",
        "\n",
        "The data provided to us has been split in training and testing sets. The files included are training data (*train_features_df*), testing data (*test_features_df*) and a Target set (*train_salaries_df*) containing dependent salary feature.\n",
        "\n",
        "The dataset includes available features or labelled columns for analysis as follows:\n",
        "\n",
        "\n",
        "*   **Job ID/jobId** : Given Job ID for the role \n",
        "*   **Company ID** : Company ID for the respective Job ID advertised\n",
        "*   **Degree** : Applicant's qualification/degree \n",
        "*   **Major** : Degree Specialization \n",
        "*   **Industry** : Job ID's categorized industry such as Oil, Auto, Health, Finance etc.\n",
        "*   **Experience (Years)** : Requried Experience for the role\n",
        "*   **Miles from Metropolis** : Distance of the job location in miles from the nearest metropolitan city\n",
        "*   **salary** : In x1000 dollars of the respective Job ID \n",
        "\n",
        "\n"
      ]
    },
    {
      "cell_type": "code",
      "metadata": {
        "id": "Cw99h1HtEjly",
        "colab_type": "code",
        "colab": {}
      },
      "source": [
        "#import your libraries\n",
        "import numpy as np\n",
        "import pandas as pd\n",
        "import matplotlib as matplot\n",
        "import matplotlib.pyplot as plt\n",
        "import seaborn as sns\n",
        "import sklearn as sk"
      ],
      "execution_count": 0,
      "outputs": []
    },
    {
      "cell_type": "markdown",
      "metadata": {
        "id": "EjgWVwKYEjl3",
        "colab_type": "text"
      },
      "source": [
        "# Part 2 - DISCOVER"
      ]
    },
    {
      "cell_type": "markdown",
      "metadata": {
        "id": "YoDhSRIDEjl5",
        "colab_type": "text"
      },
      "source": [
        "## ---- 2 Load the data ----"
      ]
    },
    {
      "cell_type": "code",
      "metadata": {
        "id": "6B9pNP_jC8kL",
        "colab_type": "code",
        "colab": {}
      },
      "source": [
        "#loading data into a pandas dataframe\n",
        "\n",
        "url1 = 'https://raw.githubusercontent.com/danishanis/Salary_Prediction_Portfolio/master/train_features.csv'\n",
        "train_features_df = pd.read_csv(url1)\n",
        "\n",
        "url2 = 'https://raw.githubusercontent.com/danishanis/Salary_Prediction_Portfolio/master/test_features.csv'\n",
        "test_features_df = pd.read_csv(url2)\n",
        "\n",
        "url3 = 'https://raw.githubusercontent.com/danishanis/Salary_Prediction_Portfolio/master/train_salaries.csv'\n",
        "train_salaries_df = pd.read_csv(url3)"
      ],
      "execution_count": 0,
      "outputs": []
    },
    {
      "cell_type": "markdown",
      "metadata": {
        "id": "DBWeT7ULEjl_",
        "colab_type": "text"
      },
      "source": [
        "## ---- 3 Clean the data ----"
      ]
    },
    {
      "cell_type": "code",
      "metadata": {
        "id": "mtJZjfvQPZ7P",
        "colab_type": "code",
        "colab": {}
      },
      "source": [
        "#Renaming columns for ease of exploration\n",
        "\n",
        "train_features_df.rename(columns={'jobId':'Job ID', 'companyId':'Company ID', \n",
        "                                  'jobType':'Job Type','degree':'Degree','major':'Major',\n",
        "                                  'industry':'Industry','yearsExperience':'Experience (Years)',\n",
        "                                 'milesFromMetropolis':'Miles from Metropolis'}, inplace = True)\n",
        "\n",
        "test_features_df.rename(columns={'jobId':'Job ID', 'companyId':'Company ID', \n",
        "                                  'jobType':'Job Type','degree':'Degree','major':'Major',\n",
        "                                  'industry':'Industry','yearsExperience':'Experience (Years)',\n",
        "                                 'milesFromMetropolis':'Miles from Metropolis'}, inplace = True)\n",
        "\n",
        "train_salaries_df.rename(columns={'jobId':'Job ID','salary':'Salary'}, inplace = True)"
      ],
      "execution_count": 0,
      "outputs": []
    },
    {
      "cell_type": "markdown",
      "metadata": {
        "id": "yyS4JdgiV3ok",
        "colab_type": "text"
      },
      "source": [
        "###Verifying that the data is loaded alright by looking at its length, shape and checking values."
      ]
    },
    {
      "cell_type": "code",
      "metadata": {
        "id": "yF0aph4NXSHF",
        "colab_type": "code",
        "outputId": "93dba6ad-6af7-4669-cba0-b752a8e200ba",
        "colab": {
          "base_uri": "https://localhost:8080/",
          "height": 238
        }
      },
      "source": [
        "train_features_df.info()"
      ],
      "execution_count": 111,
      "outputs": [
        {
          "output_type": "stream",
          "text": [
            "<class 'pandas.core.frame.DataFrame'>\n",
            "RangeIndex: 1000000 entries, 0 to 999999\n",
            "Data columns (total 8 columns):\n",
            "Job ID                   1000000 non-null object\n",
            "Company ID               1000000 non-null object\n",
            "Job Type                 1000000 non-null object\n",
            "Degree                   1000000 non-null object\n",
            "Major                    1000000 non-null object\n",
            "Industry                 1000000 non-null object\n",
            "Experience (Years)       1000000 non-null int64\n",
            "Miles from Metropolis    1000000 non-null int64\n",
            "dtypes: int64(2), object(6)\n",
            "memory usage: 61.0+ MB\n"
          ],
          "name": "stdout"
        }
      ]
    },
    {
      "cell_type": "code",
      "metadata": {
        "id": "A6QFHqUUXtMQ",
        "colab_type": "code",
        "outputId": "6dd69e04-288c-4ea1-c636-d0d8e805fac5",
        "colab": {
          "base_uri": "https://localhost:8080/",
          "height": 68
        }
      },
      "source": [
        "print(train_features_df.shape)\n",
        "print(test_features_df.shape)\n",
        "print(train_salaries_df.shape)"
      ],
      "execution_count": 112,
      "outputs": [
        {
          "output_type": "stream",
          "text": [
            "(1000000, 8)\n",
            "(1000000, 8)\n",
            "(1000000, 2)\n"
          ],
          "name": "stdout"
        }
      ]
    },
    {
      "cell_type": "markdown",
      "metadata": {
        "id": "TWX_lfjeXdSq",
        "colab_type": "text"
      },
      "source": [
        "Both train and test datasets have the same lengths and data types"
      ]
    },
    {
      "cell_type": "code",
      "metadata": {
        "id": "7Eu_zP89ZenM",
        "colab_type": "code",
        "outputId": "d7099813-0ed2-4e81-a93d-1a3029ef03eb",
        "colab": {
          "base_uri": "https://localhost:8080/",
          "height": 204
        }
      },
      "source": [
        "train_features_df.head()"
      ],
      "execution_count": 113,
      "outputs": [
        {
          "output_type": "execute_result",
          "data": {
            "text/html": [
              "<div>\n",
              "<style scoped>\n",
              "    .dataframe tbody tr th:only-of-type {\n",
              "        vertical-align: middle;\n",
              "    }\n",
              "\n",
              "    .dataframe tbody tr th {\n",
              "        vertical-align: top;\n",
              "    }\n",
              "\n",
              "    .dataframe thead th {\n",
              "        text-align: right;\n",
              "    }\n",
              "</style>\n",
              "<table border=\"1\" class=\"dataframe\">\n",
              "  <thead>\n",
              "    <tr style=\"text-align: right;\">\n",
              "      <th></th>\n",
              "      <th>Job ID</th>\n",
              "      <th>Company ID</th>\n",
              "      <th>Job Type</th>\n",
              "      <th>Degree</th>\n",
              "      <th>Major</th>\n",
              "      <th>Industry</th>\n",
              "      <th>Experience (Years)</th>\n",
              "      <th>Miles from Metropolis</th>\n",
              "    </tr>\n",
              "  </thead>\n",
              "  <tbody>\n",
              "    <tr>\n",
              "      <th>0</th>\n",
              "      <td>JOB1362684407687</td>\n",
              "      <td>COMP37</td>\n",
              "      <td>CFO</td>\n",
              "      <td>MASTERS</td>\n",
              "      <td>MATH</td>\n",
              "      <td>HEALTH</td>\n",
              "      <td>10</td>\n",
              "      <td>83</td>\n",
              "    </tr>\n",
              "    <tr>\n",
              "      <th>1</th>\n",
              "      <td>JOB1362684407688</td>\n",
              "      <td>COMP19</td>\n",
              "      <td>CEO</td>\n",
              "      <td>HIGH_SCHOOL</td>\n",
              "      <td>NONE</td>\n",
              "      <td>WEB</td>\n",
              "      <td>3</td>\n",
              "      <td>73</td>\n",
              "    </tr>\n",
              "    <tr>\n",
              "      <th>2</th>\n",
              "      <td>JOB1362684407689</td>\n",
              "      <td>COMP52</td>\n",
              "      <td>VICE_PRESIDENT</td>\n",
              "      <td>DOCTORAL</td>\n",
              "      <td>PHYSICS</td>\n",
              "      <td>HEALTH</td>\n",
              "      <td>10</td>\n",
              "      <td>38</td>\n",
              "    </tr>\n",
              "    <tr>\n",
              "      <th>3</th>\n",
              "      <td>JOB1362684407690</td>\n",
              "      <td>COMP38</td>\n",
              "      <td>MANAGER</td>\n",
              "      <td>DOCTORAL</td>\n",
              "      <td>CHEMISTRY</td>\n",
              "      <td>AUTO</td>\n",
              "      <td>8</td>\n",
              "      <td>17</td>\n",
              "    </tr>\n",
              "    <tr>\n",
              "      <th>4</th>\n",
              "      <td>JOB1362684407691</td>\n",
              "      <td>COMP7</td>\n",
              "      <td>VICE_PRESIDENT</td>\n",
              "      <td>BACHELORS</td>\n",
              "      <td>PHYSICS</td>\n",
              "      <td>FINANCE</td>\n",
              "      <td>8</td>\n",
              "      <td>16</td>\n",
              "    </tr>\n",
              "  </tbody>\n",
              "</table>\n",
              "</div>"
            ],
            "text/plain": [
              "             Job ID Company ID  ... Experience (Years) Miles from Metropolis\n",
              "0  JOB1362684407687     COMP37  ...                 10                    83\n",
              "1  JOB1362684407688     COMP19  ...                  3                    73\n",
              "2  JOB1362684407689     COMP52  ...                 10                    38\n",
              "3  JOB1362684407690     COMP38  ...                  8                    17\n",
              "4  JOB1362684407691      COMP7  ...                  8                    16\n",
              "\n",
              "[5 rows x 8 columns]"
            ]
          },
          "metadata": {
            "tags": []
          },
          "execution_count": 113
        }
      ]
    },
    {
      "cell_type": "code",
      "metadata": {
        "id": "WxBWB3K4Y0ti",
        "colab_type": "code",
        "outputId": "60f3af95-6334-450b-9781-3f38c360bad8",
        "colab": {
          "base_uri": "https://localhost:8080/",
          "height": 204
        }
      },
      "source": [
        "train_salaries_df.head()"
      ],
      "execution_count": 114,
      "outputs": [
        {
          "output_type": "execute_result",
          "data": {
            "text/html": [
              "<div>\n",
              "<style scoped>\n",
              "    .dataframe tbody tr th:only-of-type {\n",
              "        vertical-align: middle;\n",
              "    }\n",
              "\n",
              "    .dataframe tbody tr th {\n",
              "        vertical-align: top;\n",
              "    }\n",
              "\n",
              "    .dataframe thead th {\n",
              "        text-align: right;\n",
              "    }\n",
              "</style>\n",
              "<table border=\"1\" class=\"dataframe\">\n",
              "  <thead>\n",
              "    <tr style=\"text-align: right;\">\n",
              "      <th></th>\n",
              "      <th>Job ID</th>\n",
              "      <th>Salary</th>\n",
              "    </tr>\n",
              "  </thead>\n",
              "  <tbody>\n",
              "    <tr>\n",
              "      <th>0</th>\n",
              "      <td>JOB1362684407687</td>\n",
              "      <td>130</td>\n",
              "    </tr>\n",
              "    <tr>\n",
              "      <th>1</th>\n",
              "      <td>JOB1362684407688</td>\n",
              "      <td>101</td>\n",
              "    </tr>\n",
              "    <tr>\n",
              "      <th>2</th>\n",
              "      <td>JOB1362684407689</td>\n",
              "      <td>137</td>\n",
              "    </tr>\n",
              "    <tr>\n",
              "      <th>3</th>\n",
              "      <td>JOB1362684407690</td>\n",
              "      <td>142</td>\n",
              "    </tr>\n",
              "    <tr>\n",
              "      <th>4</th>\n",
              "      <td>JOB1362684407691</td>\n",
              "      <td>163</td>\n",
              "    </tr>\n",
              "  </tbody>\n",
              "</table>\n",
              "</div>"
            ],
            "text/plain": [
              "             Job ID  Salary\n",
              "0  JOB1362684407687     130\n",
              "1  JOB1362684407688     101\n",
              "2  JOB1362684407689     137\n",
              "3  JOB1362684407690     142\n",
              "4  JOB1362684407691     163"
            ]
          },
          "metadata": {
            "tags": []
          },
          "execution_count": 114
        }
      ]
    },
    {
      "cell_type": "code",
      "metadata": {
        "id": "OenSQpJQaRzk",
        "colab_type": "code",
        "outputId": "eb98930e-f741-4bf7-8114-65ce90e3c743",
        "colab": {
          "base_uri": "https://localhost:8080/",
          "height": 136
        }
      },
      "source": [
        "train_salaries_df.info()"
      ],
      "execution_count": 115,
      "outputs": [
        {
          "output_type": "stream",
          "text": [
            "<class 'pandas.core.frame.DataFrame'>\n",
            "RangeIndex: 1000000 entries, 0 to 999999\n",
            "Data columns (total 2 columns):\n",
            "Job ID    1000000 non-null object\n",
            "Salary    1000000 non-null int64\n",
            "dtypes: int64(1), object(1)\n",
            "memory usage: 15.3+ MB\n"
          ],
          "name": "stdout"
        }
      ]
    },
    {
      "cell_type": "markdown",
      "metadata": {
        "id": "TXlvxfc2Yilt",
        "colab_type": "text"
      },
      "source": [
        "The dataset 'train_salaries_df' has our dependent target variable, Salary info (to be predicted) along with the Job ID. This is the same Job ID as we have in the previous training and testing datasets. Therefore, train_salaries_df is better to be used for testing the built model for its accuracy.\n",
        "\n",
        "For the sake of ease, the Job ID column in target set shall be merged with the training set later. "
      ]
    },
    {
      "cell_type": "markdown",
      "metadata": {
        "id": "ExCTT4BogNQh",
        "colab_type": "text"
      },
      "source": [
        "###Checking for and removing any missing values."
      ]
    },
    {
      "cell_type": "code",
      "metadata": {
        "id": "I_V5Sc1VgcWC",
        "colab_type": "code",
        "outputId": "de9373f6-76ef-41fa-e5f5-f21d5836e095",
        "colab": {
          "base_uri": "https://localhost:8080/",
          "height": 170
        }
      },
      "source": [
        "train_features_df.isnull().sum()"
      ],
      "execution_count": 116,
      "outputs": [
        {
          "output_type": "execute_result",
          "data": {
            "text/plain": [
              "Job ID                   0\n",
              "Company ID               0\n",
              "Job Type                 0\n",
              "Degree                   0\n",
              "Major                    0\n",
              "Industry                 0\n",
              "Experience (Years)       0\n",
              "Miles from Metropolis    0\n",
              "dtype: int64"
            ]
          },
          "metadata": {
            "tags": []
          },
          "execution_count": 116
        }
      ]
    },
    {
      "cell_type": "code",
      "metadata": {
        "id": "r4UD-FzghSL4",
        "colab_type": "code",
        "outputId": "32876edf-ac9c-484c-c83f-d3c5c7cfc52f",
        "colab": {
          "base_uri": "https://localhost:8080/",
          "height": 170
        }
      },
      "source": [
        "train_features_df.isnull().sum()"
      ],
      "execution_count": 117,
      "outputs": [
        {
          "output_type": "execute_result",
          "data": {
            "text/plain": [
              "Job ID                   0\n",
              "Company ID               0\n",
              "Job Type                 0\n",
              "Degree                   0\n",
              "Major                    0\n",
              "Industry                 0\n",
              "Experience (Years)       0\n",
              "Miles from Metropolis    0\n",
              "dtype: int64"
            ]
          },
          "metadata": {
            "tags": []
          },
          "execution_count": 117
        }
      ]
    },
    {
      "cell_type": "markdown",
      "metadata": {
        "id": "XuPqBDqnlDss",
        "colab_type": "text"
      },
      "source": [
        "The training and testing sets do not contain any missing values."
      ]
    },
    {
      "cell_type": "markdown",
      "metadata": {
        "id": "r_unIDu3nqig",
        "colab_type": "text"
      },
      "source": [
        "###As discussed earlier, we've seen the feature training and target sets contain the same Job IDs except that the latter includes out target variable 'Salary'. We would like to see the data sorted by its Job ID all in one place instead of having to open two datasets.\n",
        "\n",
        "This is one of the many functions that the *Pandas Library* includes. "
      ]
    },
    {
      "cell_type": "code",
      "metadata": {
        "id": "jTAdT_GYmAZL",
        "colab_type": "code",
        "colab": {
          "base_uri": "https://localhost:8080/",
          "height": 204
        },
        "outputId": "6db00c5a-8a6d-4e40-9a28-a47c69620266"
      },
      "source": [
        "#Merging the training features and salaries (target) dataset along Job ID column \n",
        "train_merged = pd.merge(train_features_df, train_salaries_df, on ='Job ID', how = 'inner')\n",
        "train_merged.head()"
      ],
      "execution_count": 118,
      "outputs": [
        {
          "output_type": "execute_result",
          "data": {
            "text/html": [
              "<div>\n",
              "<style scoped>\n",
              "    .dataframe tbody tr th:only-of-type {\n",
              "        vertical-align: middle;\n",
              "    }\n",
              "\n",
              "    .dataframe tbody tr th {\n",
              "        vertical-align: top;\n",
              "    }\n",
              "\n",
              "    .dataframe thead th {\n",
              "        text-align: right;\n",
              "    }\n",
              "</style>\n",
              "<table border=\"1\" class=\"dataframe\">\n",
              "  <thead>\n",
              "    <tr style=\"text-align: right;\">\n",
              "      <th></th>\n",
              "      <th>Job ID</th>\n",
              "      <th>Company ID</th>\n",
              "      <th>Job Type</th>\n",
              "      <th>Degree</th>\n",
              "      <th>Major</th>\n",
              "      <th>Industry</th>\n",
              "      <th>Experience (Years)</th>\n",
              "      <th>Miles from Metropolis</th>\n",
              "      <th>Salary</th>\n",
              "    </tr>\n",
              "  </thead>\n",
              "  <tbody>\n",
              "    <tr>\n",
              "      <th>0</th>\n",
              "      <td>JOB1362684407687</td>\n",
              "      <td>COMP37</td>\n",
              "      <td>CFO</td>\n",
              "      <td>MASTERS</td>\n",
              "      <td>MATH</td>\n",
              "      <td>HEALTH</td>\n",
              "      <td>10</td>\n",
              "      <td>83</td>\n",
              "      <td>130</td>\n",
              "    </tr>\n",
              "    <tr>\n",
              "      <th>1</th>\n",
              "      <td>JOB1362684407688</td>\n",
              "      <td>COMP19</td>\n",
              "      <td>CEO</td>\n",
              "      <td>HIGH_SCHOOL</td>\n",
              "      <td>NONE</td>\n",
              "      <td>WEB</td>\n",
              "      <td>3</td>\n",
              "      <td>73</td>\n",
              "      <td>101</td>\n",
              "    </tr>\n",
              "    <tr>\n",
              "      <th>2</th>\n",
              "      <td>JOB1362684407689</td>\n",
              "      <td>COMP52</td>\n",
              "      <td>VICE_PRESIDENT</td>\n",
              "      <td>DOCTORAL</td>\n",
              "      <td>PHYSICS</td>\n",
              "      <td>HEALTH</td>\n",
              "      <td>10</td>\n",
              "      <td>38</td>\n",
              "      <td>137</td>\n",
              "    </tr>\n",
              "    <tr>\n",
              "      <th>3</th>\n",
              "      <td>JOB1362684407690</td>\n",
              "      <td>COMP38</td>\n",
              "      <td>MANAGER</td>\n",
              "      <td>DOCTORAL</td>\n",
              "      <td>CHEMISTRY</td>\n",
              "      <td>AUTO</td>\n",
              "      <td>8</td>\n",
              "      <td>17</td>\n",
              "      <td>142</td>\n",
              "    </tr>\n",
              "    <tr>\n",
              "      <th>4</th>\n",
              "      <td>JOB1362684407691</td>\n",
              "      <td>COMP7</td>\n",
              "      <td>VICE_PRESIDENT</td>\n",
              "      <td>BACHELORS</td>\n",
              "      <td>PHYSICS</td>\n",
              "      <td>FINANCE</td>\n",
              "      <td>8</td>\n",
              "      <td>16</td>\n",
              "      <td>163</td>\n",
              "    </tr>\n",
              "  </tbody>\n",
              "</table>\n",
              "</div>"
            ],
            "text/plain": [
              "             Job ID Company ID  ... Miles from Metropolis Salary\n",
              "0  JOB1362684407687     COMP37  ...                    83    130\n",
              "1  JOB1362684407688     COMP19  ...                    73    101\n",
              "2  JOB1362684407689     COMP52  ...                    38    137\n",
              "3  JOB1362684407690     COMP38  ...                    17    142\n",
              "4  JOB1362684407691      COMP7  ...                    16    163\n",
              "\n",
              "[5 rows x 9 columns]"
            ]
          },
          "metadata": {
            "tags": []
          },
          "execution_count": 118
        }
      ]
    },
    {
      "cell_type": "code",
      "metadata": {
        "id": "TcDFzapAxvLL",
        "colab_type": "code",
        "colab": {
          "base_uri": "https://localhost:8080/",
          "height": 187
        },
        "outputId": "46bc5486-9f59-440f-d843-342e0f0db88a"
      },
      "source": [
        "#Checking for any missing values in the newly merged dataset\n",
        "train_merged.isnull().sum()"
      ],
      "execution_count": 119,
      "outputs": [
        {
          "output_type": "execute_result",
          "data": {
            "text/plain": [
              "Job ID                   0\n",
              "Company ID               0\n",
              "Job Type                 0\n",
              "Degree                   0\n",
              "Major                    0\n",
              "Industry                 0\n",
              "Experience (Years)       0\n",
              "Miles from Metropolis    0\n",
              "Salary                   0\n",
              "dtype: int64"
            ]
          },
          "metadata": {
            "tags": []
          },
          "execution_count": 119
        }
      ]
    },
    {
      "cell_type": "code",
      "metadata": {
        "id": "y1yTG4-0yCJT",
        "colab_type": "code",
        "colab": {
          "base_uri": "https://localhost:8080/",
          "height": 34
        },
        "outputId": "f8820f11-6a04-4a2f-fea3-7d4460fb8aef"
      },
      "source": [
        "#Checking if any Salary attributes have '0' value\n",
        "len(train_merged[train_merged['Salary']==0])"
      ],
      "execution_count": 121,
      "outputs": [
        {
          "output_type": "execute_result",
          "data": {
            "text/plain": [
              "5"
            ]
          },
          "metadata": {
            "tags": []
          },
          "execution_count": 121
        }
      ]
    },
    {
      "cell_type": "code",
      "metadata": {
        "id": "QVDUb4Cgyaz3",
        "colab_type": "code",
        "colab": {
          "base_uri": "https://localhost:8080/",
          "height": 204
        },
        "outputId": "416be0ad-45f0-482b-b570-b179956f9757"
      },
      "source": [
        "#Displaying the rows that have '0' as their salary values\n",
        "train_merged[train_merged['Salary']==0]"
      ],
      "execution_count": 122,
      "outputs": [
        {
          "output_type": "execute_result",
          "data": {
            "text/html": [
              "<div>\n",
              "<style scoped>\n",
              "    .dataframe tbody tr th:only-of-type {\n",
              "        vertical-align: middle;\n",
              "    }\n",
              "\n",
              "    .dataframe tbody tr th {\n",
              "        vertical-align: top;\n",
              "    }\n",
              "\n",
              "    .dataframe thead th {\n",
              "        text-align: right;\n",
              "    }\n",
              "</style>\n",
              "<table border=\"1\" class=\"dataframe\">\n",
              "  <thead>\n",
              "    <tr style=\"text-align: right;\">\n",
              "      <th></th>\n",
              "      <th>Job ID</th>\n",
              "      <th>Company ID</th>\n",
              "      <th>Job Type</th>\n",
              "      <th>Degree</th>\n",
              "      <th>Major</th>\n",
              "      <th>Industry</th>\n",
              "      <th>Experience (Years)</th>\n",
              "      <th>Miles from Metropolis</th>\n",
              "      <th>Salary</th>\n",
              "    </tr>\n",
              "  </thead>\n",
              "  <tbody>\n",
              "    <tr>\n",
              "      <th>30559</th>\n",
              "      <td>JOB1362684438246</td>\n",
              "      <td>COMP44</td>\n",
              "      <td>JUNIOR</td>\n",
              "      <td>DOCTORAL</td>\n",
              "      <td>MATH</td>\n",
              "      <td>AUTO</td>\n",
              "      <td>11</td>\n",
              "      <td>7</td>\n",
              "      <td>0</td>\n",
              "    </tr>\n",
              "    <tr>\n",
              "      <th>495984</th>\n",
              "      <td>JOB1362684903671</td>\n",
              "      <td>COMP34</td>\n",
              "      <td>JUNIOR</td>\n",
              "      <td>NONE</td>\n",
              "      <td>NONE</td>\n",
              "      <td>OIL</td>\n",
              "      <td>1</td>\n",
              "      <td>25</td>\n",
              "      <td>0</td>\n",
              "    </tr>\n",
              "    <tr>\n",
              "      <th>652076</th>\n",
              "      <td>JOB1362685059763</td>\n",
              "      <td>COMP25</td>\n",
              "      <td>CTO</td>\n",
              "      <td>HIGH_SCHOOL</td>\n",
              "      <td>NONE</td>\n",
              "      <td>AUTO</td>\n",
              "      <td>6</td>\n",
              "      <td>60</td>\n",
              "      <td>0</td>\n",
              "    </tr>\n",
              "    <tr>\n",
              "      <th>816129</th>\n",
              "      <td>JOB1362685223816</td>\n",
              "      <td>COMP42</td>\n",
              "      <td>MANAGER</td>\n",
              "      <td>DOCTORAL</td>\n",
              "      <td>ENGINEERING</td>\n",
              "      <td>FINANCE</td>\n",
              "      <td>18</td>\n",
              "      <td>6</td>\n",
              "      <td>0</td>\n",
              "    </tr>\n",
              "    <tr>\n",
              "      <th>828156</th>\n",
              "      <td>JOB1362685235843</td>\n",
              "      <td>COMP40</td>\n",
              "      <td>VICE_PRESIDENT</td>\n",
              "      <td>MASTERS</td>\n",
              "      <td>ENGINEERING</td>\n",
              "      <td>WEB</td>\n",
              "      <td>3</td>\n",
              "      <td>29</td>\n",
              "      <td>0</td>\n",
              "    </tr>\n",
              "  </tbody>\n",
              "</table>\n",
              "</div>"
            ],
            "text/plain": [
              "                  Job ID Company ID  ... Miles from Metropolis Salary\n",
              "30559   JOB1362684438246     COMP44  ...                     7      0\n",
              "495984  JOB1362684903671     COMP34  ...                    25      0\n",
              "652076  JOB1362685059763     COMP25  ...                    60      0\n",
              "816129  JOB1362685223816     COMP42  ...                     6      0\n",
              "828156  JOB1362685235843     COMP40  ...                    29      0\n",
              "\n",
              "[5 rows x 9 columns]"
            ]
          },
          "metadata": {
            "tags": []
          },
          "execution_count": 122
        }
      ]
    },
    {
      "cell_type": "markdown",
      "metadata": {
        "id": "Hjt50js4y1jK",
        "colab_type": "text"
      },
      "source": [
        "*Now we know that their are 5 unique Job IDs that don't have any salary listed. It is better if we remove these rows from the dataset, since they do not contribute to the model training, besides being unrealistic and very small in number to have any negative affect on the training.*"
      ]
    },
    {
      "cell_type": "code",
      "metadata": {
        "id": "U_2Bx_4xzGfl",
        "colab_type": "code",
        "colab": {}
      },
      "source": [
        "#Removing rows with Salary value 0\n",
        "\n",
        "train_merged = train_merged[train_merged.Salary!= 0]"
      ],
      "execution_count": 0,
      "outputs": []
    },
    {
      "cell_type": "markdown",
      "metadata": {
        "id": "YlKCEN0yFFF5",
        "colab_type": "text"
      },
      "source": [
        "Once rows with 0 salary are dropped, the index values need to be re-arranged so there is no confusion in the future."
      ]
    },
    {
      "cell_type": "code",
      "metadata": {
        "id": "N1_xlGx5FDoO",
        "colab_type": "code",
        "colab": {
          "base_uri": "https://localhost:8080/",
          "height": 221
        },
        "outputId": "47a91a52-17e1-4454-81a1-830421857cc3"
      },
      "source": [
        "#Resetting the index values\n",
        "print(train_merged.shape)\n",
        "train_merged.reset_index(drop = True).head()"
      ],
      "execution_count": 124,
      "outputs": [
        {
          "output_type": "stream",
          "text": [
            "(999995, 9)\n"
          ],
          "name": "stdout"
        },
        {
          "output_type": "execute_result",
          "data": {
            "text/html": [
              "<div>\n",
              "<style scoped>\n",
              "    .dataframe tbody tr th:only-of-type {\n",
              "        vertical-align: middle;\n",
              "    }\n",
              "\n",
              "    .dataframe tbody tr th {\n",
              "        vertical-align: top;\n",
              "    }\n",
              "\n",
              "    .dataframe thead th {\n",
              "        text-align: right;\n",
              "    }\n",
              "</style>\n",
              "<table border=\"1\" class=\"dataframe\">\n",
              "  <thead>\n",
              "    <tr style=\"text-align: right;\">\n",
              "      <th></th>\n",
              "      <th>Job ID</th>\n",
              "      <th>Company ID</th>\n",
              "      <th>Job Type</th>\n",
              "      <th>Degree</th>\n",
              "      <th>Major</th>\n",
              "      <th>Industry</th>\n",
              "      <th>Experience (Years)</th>\n",
              "      <th>Miles from Metropolis</th>\n",
              "      <th>Salary</th>\n",
              "    </tr>\n",
              "  </thead>\n",
              "  <tbody>\n",
              "    <tr>\n",
              "      <th>0</th>\n",
              "      <td>JOB1362684407687</td>\n",
              "      <td>COMP37</td>\n",
              "      <td>CFO</td>\n",
              "      <td>MASTERS</td>\n",
              "      <td>MATH</td>\n",
              "      <td>HEALTH</td>\n",
              "      <td>10</td>\n",
              "      <td>83</td>\n",
              "      <td>130</td>\n",
              "    </tr>\n",
              "    <tr>\n",
              "      <th>1</th>\n",
              "      <td>JOB1362684407688</td>\n",
              "      <td>COMP19</td>\n",
              "      <td>CEO</td>\n",
              "      <td>HIGH_SCHOOL</td>\n",
              "      <td>NONE</td>\n",
              "      <td>WEB</td>\n",
              "      <td>3</td>\n",
              "      <td>73</td>\n",
              "      <td>101</td>\n",
              "    </tr>\n",
              "    <tr>\n",
              "      <th>2</th>\n",
              "      <td>JOB1362684407689</td>\n",
              "      <td>COMP52</td>\n",
              "      <td>VICE_PRESIDENT</td>\n",
              "      <td>DOCTORAL</td>\n",
              "      <td>PHYSICS</td>\n",
              "      <td>HEALTH</td>\n",
              "      <td>10</td>\n",
              "      <td>38</td>\n",
              "      <td>137</td>\n",
              "    </tr>\n",
              "    <tr>\n",
              "      <th>3</th>\n",
              "      <td>JOB1362684407690</td>\n",
              "      <td>COMP38</td>\n",
              "      <td>MANAGER</td>\n",
              "      <td>DOCTORAL</td>\n",
              "      <td>CHEMISTRY</td>\n",
              "      <td>AUTO</td>\n",
              "      <td>8</td>\n",
              "      <td>17</td>\n",
              "      <td>142</td>\n",
              "    </tr>\n",
              "    <tr>\n",
              "      <th>4</th>\n",
              "      <td>JOB1362684407691</td>\n",
              "      <td>COMP7</td>\n",
              "      <td>VICE_PRESIDENT</td>\n",
              "      <td>BACHELORS</td>\n",
              "      <td>PHYSICS</td>\n",
              "      <td>FINANCE</td>\n",
              "      <td>8</td>\n",
              "      <td>16</td>\n",
              "      <td>163</td>\n",
              "    </tr>\n",
              "  </tbody>\n",
              "</table>\n",
              "</div>"
            ],
            "text/plain": [
              "             Job ID Company ID  ... Miles from Metropolis Salary\n",
              "0  JOB1362684407687     COMP37  ...                    83    130\n",
              "1  JOB1362684407688     COMP19  ...                    73    101\n",
              "2  JOB1362684407689     COMP52  ...                    38    137\n",
              "3  JOB1362684407690     COMP38  ...                    17    142\n",
              "4  JOB1362684407691      COMP7  ...                    16    163\n",
              "\n",
              "[5 rows x 9 columns]"
            ]
          },
          "metadata": {
            "tags": []
          },
          "execution_count": 124
        }
      ]
    },
    {
      "cell_type": "markdown",
      "metadata": {
        "id": "fuPKMimro51T",
        "colab_type": "text"
      },
      "source": [
        "We can now check for further information in the dataset like the unique attributes in every feature contributing to our salary prediciton problem."
      ]
    },
    {
      "cell_type": "code",
      "metadata": {
        "id": "mVrNhXVgo0pU",
        "colab_type": "code",
        "colab": {
          "base_uri": "https://localhost:8080/",
          "height": 187
        },
        "outputId": "eccf542c-955d-4b39-c7fb-0d5ec803f388"
      },
      "source": [
        "#Looking for Unique values\n",
        "train_merged.nunique()"
      ],
      "execution_count": 125,
      "outputs": [
        {
          "output_type": "execute_result",
          "data": {
            "text/plain": [
              "Job ID                   999995\n",
              "Company ID                   63\n",
              "Job Type                      8\n",
              "Degree                        5\n",
              "Major                         9\n",
              "Industry                      7\n",
              "Experience (Years)           25\n",
              "Miles from Metropolis       100\n",
              "Salary                      279\n",
              "dtype: int64"
            ]
          },
          "metadata": {
            "tags": []
          },
          "execution_count": 125
        }
      ]
    },
    {
      "cell_type": "markdown",
      "metadata": {
        "id": "y9yWaTXqpUIy",
        "colab_type": "text"
      },
      "source": [
        "This tells us that our dataset has nearly 1 million job descriptions from 63 companies advertizing 8 unique job types in 7 different industries. There are mainly 5 Degree and 9 Major requirements included. Depending on job types, the experience feature has 25 unique values and locations that are at 100 different metrics (miles) away from closest metropolitan city.     "
      ]
    },
    {
      "cell_type": "code",
      "metadata": {
        "id": "tVKl8zU0vnEJ",
        "colab_type": "code",
        "colab": {
          "base_uri": "https://localhost:8080/",
          "height": 34
        },
        "outputId": "814b55f0-a3f7-40be-8a02-c06967c20cc0"
      },
      "source": [
        "#Checking for duplicate values\n",
        "\n",
        "train_merged.duplicated().any()"
      ],
      "execution_count": 126,
      "outputs": [
        {
          "output_type": "execute_result",
          "data": {
            "text/plain": [
              "False"
            ]
          },
          "metadata": {
            "tags": []
          },
          "execution_count": 126
        }
      ]
    },
    {
      "cell_type": "markdown",
      "metadata": {
        "id": "HNm2DHkevxeO",
        "colab_type": "text"
      },
      "source": [
        "There are no duplicate values in the dataset."
      ]
    },
    {
      "cell_type": "markdown",
      "metadata": {
        "id": "5Zs-jMRJwcas",
        "colab_type": "text"
      },
      "source": [
        "Data types are checked to make sure they are appropriate corresponding to the columns using .dtypes."
      ]
    },
    {
      "cell_type": "code",
      "metadata": {
        "id": "h4rD7t0wv7Ig",
        "colab_type": "code",
        "colab": {
          "base_uri": "https://localhost:8080/",
          "height": 187
        },
        "outputId": "9046be13-33b4-4cf4-be4b-015ad61e304b"
      },
      "source": [
        "train_merged.dtypes"
      ],
      "execution_count": 127,
      "outputs": [
        {
          "output_type": "execute_result",
          "data": {
            "text/plain": [
              "Job ID                   object\n",
              "Company ID               object\n",
              "Job Type                 object\n",
              "Degree                   object\n",
              "Major                    object\n",
              "Industry                 object\n",
              "Experience (Years)        int64\n",
              "Miles from Metropolis     int64\n",
              "Salary                    int64\n",
              "dtype: object"
            ]
          },
          "metadata": {
            "tags": []
          },
          "execution_count": 127
        }
      ]
    },
    {
      "cell_type": "markdown",
      "metadata": {
        "id": "mUxNkbSqxEaL",
        "colab_type": "text"
      },
      "source": [
        "###We can now procede to look at some of the summary statistics to get a better understanding of the data. This mainly includes descriptive statistics concerning all the numerical data in the dataset. \n",
        "\n",
        "This will be done in the next section as a part of the Exploratory Data Analysis (EDA) "
      ]
    },
    {
      "cell_type": "markdown",
      "metadata": {
        "id": "RBXUG4rlEjmF",
        "colab_type": "text"
      },
      "source": [
        "## ---- 4 Explore the data (EDA) ----"
      ]
    },
    {
      "cell_type": "markdown",
      "metadata": {
        "id": "xrpvp1i2XFBK",
        "colab_type": "text"
      },
      "source": [
        "###The aim of EDA is to -\n",
        "\n",
        "\n",
        "*   Summarize each feature variable\n",
        "*   Summarize target variable\n",
        "*   Summarize correlation between each feature and target\n",
        "*   Summarize correlation between features\n",
        "\n",
        "\n"
      ]
    },
    {
      "cell_type": "code",
      "metadata": {
        "id": "hJkx6FkvEjmG",
        "colab_type": "code",
        "colab": {}
      },
      "source": [
        "#summarize each feature variable\n",
        "#summarize the target variable\n",
        "#look for correlation between each feature and the target\n",
        "#look for correlation between features"
      ],
      "execution_count": 0,
      "outputs": []
    },
    {
      "cell_type": "code",
      "metadata": {
        "id": "lXgdMJT7xCAj",
        "colab_type": "code",
        "colab": {
          "base_uri": "https://localhost:8080/",
          "height": 297
        },
        "outputId": "e0547d17-c75d-4d69-e9f9-de9def92aba0"
      },
      "source": [
        "#Summary Statistics for numerical data\n",
        "\n",
        "train_merged.describe()"
      ],
      "execution_count": 151,
      "outputs": [
        {
          "output_type": "execute_result",
          "data": {
            "text/html": [
              "<div>\n",
              "<style scoped>\n",
              "    .dataframe tbody tr th:only-of-type {\n",
              "        vertical-align: middle;\n",
              "    }\n",
              "\n",
              "    .dataframe tbody tr th {\n",
              "        vertical-align: top;\n",
              "    }\n",
              "\n",
              "    .dataframe thead th {\n",
              "        text-align: right;\n",
              "    }\n",
              "</style>\n",
              "<table border=\"1\" class=\"dataframe\">\n",
              "  <thead>\n",
              "    <tr style=\"text-align: right;\">\n",
              "      <th></th>\n",
              "      <th>Experience (Years)</th>\n",
              "      <th>Miles from Metropolis</th>\n",
              "      <th>Salary</th>\n",
              "    </tr>\n",
              "  </thead>\n",
              "  <tbody>\n",
              "    <tr>\n",
              "      <th>count</th>\n",
              "      <td>999995.000000</td>\n",
              "      <td>999995.000000</td>\n",
              "      <td>999995.000000</td>\n",
              "    </tr>\n",
              "    <tr>\n",
              "      <th>mean</th>\n",
              "      <td>11.992407</td>\n",
              "      <td>49.529381</td>\n",
              "      <td>116.062398</td>\n",
              "    </tr>\n",
              "    <tr>\n",
              "      <th>std</th>\n",
              "      <td>7.212390</td>\n",
              "      <td>28.877721</td>\n",
              "      <td>38.717163</td>\n",
              "    </tr>\n",
              "    <tr>\n",
              "      <th>min</th>\n",
              "      <td>0.000000</td>\n",
              "      <td>0.000000</td>\n",
              "      <td>17.000000</td>\n",
              "    </tr>\n",
              "    <tr>\n",
              "      <th>25%</th>\n",
              "      <td>6.000000</td>\n",
              "      <td>25.000000</td>\n",
              "      <td>88.000000</td>\n",
              "    </tr>\n",
              "    <tr>\n",
              "      <th>50%</th>\n",
              "      <td>12.000000</td>\n",
              "      <td>50.000000</td>\n",
              "      <td>114.000000</td>\n",
              "    </tr>\n",
              "    <tr>\n",
              "      <th>75%</th>\n",
              "      <td>18.000000</td>\n",
              "      <td>75.000000</td>\n",
              "      <td>141.000000</td>\n",
              "    </tr>\n",
              "    <tr>\n",
              "      <th>max</th>\n",
              "      <td>24.000000</td>\n",
              "      <td>99.000000</td>\n",
              "      <td>301.000000</td>\n",
              "    </tr>\n",
              "  </tbody>\n",
              "</table>\n",
              "</div>"
            ],
            "text/plain": [
              "       Experience (Years)  Miles from Metropolis         Salary\n",
              "count       999995.000000          999995.000000  999995.000000\n",
              "mean            11.992407              49.529381     116.062398\n",
              "std              7.212390              28.877721      38.717163\n",
              "min              0.000000               0.000000      17.000000\n",
              "25%              6.000000              25.000000      88.000000\n",
              "50%             12.000000              50.000000     114.000000\n",
              "75%             18.000000              75.000000     141.000000\n",
              "max             24.000000              99.000000     301.000000"
            ]
          },
          "metadata": {
            "tags": []
          },
          "execution_count": 151
        }
      ]
    },
    {
      "cell_type": "code",
      "metadata": {
        "id": "69fQUZRKWvpY",
        "colab_type": "code",
        "colab": {
          "base_uri": "https://localhost:8080/",
          "height": 51
        },
        "outputId": "a10fa980-c614-42cb-9c2a-1b438ed9c771"
      },
      "source": [
        "print(\"The Average Overall Salary is: $\", round(train_merged['Salary'].mean()),'000')\n",
        "print(\"The Salary Standard Deviation is: \", train_merged['Salary'].std())"
      ],
      "execution_count": 152,
      "outputs": [
        {
          "output_type": "stream",
          "text": [
            "The Average Overall Salary is: $ 116 000\n",
            "The Salary Standard Deviation is:  38.71716338504513\n"
          ],
          "name": "stdout"
        }
      ]
    },
    {
      "cell_type": "markdown",
      "metadata": {
        "id": "t9DhSv2s1vGj",
        "colab_type": "text"
      },
      "source": [
        "This is mainly to find out if the minimum, maximum, standard deviation being displayed in the data is appropriate/realistic or not. We can see that values of these metrics are normal."
      ]
    },
    {
      "cell_type": "markdown",
      "metadata": {
        "id": "yiEjdhHeXzZX",
        "colab_type": "text"
      },
      "source": [
        "*We have given a count of the unique values in every feature earlier. We will now look at the number of different unique values exist in every column*"
      ]
    },
    {
      "cell_type": "code",
      "metadata": {
        "id": "iYy5eZEEYFuz",
        "colab_type": "code",
        "colab": {
          "base_uri": "https://localhost:8080/",
          "height": 578
        },
        "outputId": "f729e338-431f-41f7-af4f-3b61cc7228eb"
      },
      "source": [
        "# Creating a function for dataset categorical vaues\n",
        "col_names = ['Job Type', 'Company ID','Degree','Major','Industry']\n",
        "\n",
        "for col in col_names:\n",
        "    if col != 'Job ID' and col != 'Company ID':\n",
        "       print(train_merged[col].value_counts())"
      ],
      "execution_count": 160,
      "outputs": [
        {
          "output_type": "stream",
          "text": [
            "SENIOR            125886\n",
            "VICE_PRESIDENT    125234\n",
            "MANAGER           125120\n",
            "CTO               125045\n",
            "JANITOR           124971\n",
            "CEO               124778\n",
            "JUNIOR            124592\n",
            "CFO               124369\n",
            "Name: Job Type, dtype: int64\n",
            "HIGH_SCHOOL    236975\n",
            "NONE           236853\n",
            "BACHELORS      175495\n",
            "DOCTORAL       175362\n",
            "MASTERS        175310\n",
            "Name: Degree, dtype: int64\n",
            "NONE           532353\n",
            "CHEMISTRY       58875\n",
            "LITERATURE      58684\n",
            "ENGINEERING     58594\n",
            "BUSINESS        58518\n",
            "PHYSICS         58410\n",
            "COMPSCI         58382\n",
            "BIOLOGY         58379\n",
            "MATH            57800\n",
            "Name: Major, dtype: int64\n",
            "WEB          143205\n",
            "AUTO         142941\n",
            "FINANCE      142866\n",
            "EDUCATION    142819\n",
            "OIL          142770\n",
            "HEALTH       142755\n",
            "SERVICE      142639\n",
            "Name: Industry, dtype: int64\n"
          ],
          "name": "stdout"
        }
      ]
    },
    {
      "cell_type": "markdown",
      "metadata": {
        "id": "fDDtE5CPZpR9",
        "colab_type": "text"
      },
      "source": [
        "The for loop created iterates through every column with categorical values in the dataset starting from Job Type to Degree, Major and Industry and counts the value of every unique entry in the respective columns along with their frequency in the dataset.\n",
        "\n",
        "This way, we get the different number of job id's assigned to every unique entry in the categorical dataset."
      ]
    },
    {
      "cell_type": "markdown",
      "metadata": {
        "id": "wGAaT8Vya28C",
        "colab_type": "text"
      },
      "source": [
        "## Visualizing the Target Variable (Salary) "
      ]
    },
    {
      "cell_type": "markdown",
      "metadata": {
        "id": "Roa1zrolbb1z",
        "colab_type": "text"
      },
      "source": [
        "As a part of visualization, we would "
      ]
    },
    {
      "cell_type": "code",
      "metadata": {
        "id": "H4ENcox9OFKp",
        "colab_type": "code",
        "colab": {}
      },
      "source": [
        ""
      ],
      "execution_count": 0,
      "outputs": []
    },
    {
      "cell_type": "code",
      "metadata": {
        "id": "qdX57cIaOFQZ",
        "colab_type": "code",
        "colab": {}
      },
      "source": [
        ""
      ],
      "execution_count": 0,
      "outputs": []
    },
    {
      "cell_type": "markdown",
      "metadata": {
        "id": "tI_5U8NVEjmJ",
        "colab_type": "text"
      },
      "source": [
        "## ---- 5 Establish a baseline ----"
      ]
    },
    {
      "cell_type": "code",
      "metadata": {
        "id": "_vim15SIEjmK",
        "colab_type": "code",
        "colab": {}
      },
      "source": [
        "#select a reasonable metric (MSE in this case)\n",
        "#create an extremely simple model and measure its efficacy\n",
        "#e.g. use \"average salary\" for each industry as your model and then measure MSE\n",
        "#during 5-fold cross-validation"
      ],
      "execution_count": 0,
      "outputs": []
    },
    {
      "cell_type": "markdown",
      "metadata": {
        "id": "AOdMCCPCEjmO",
        "colab_type": "text"
      },
      "source": [
        "## ---- 6 Hypothesize solution ----"
      ]
    },
    {
      "cell_type": "code",
      "metadata": {
        "id": "aq__CEmKEjmP",
        "colab_type": "code",
        "colab": {}
      },
      "source": [
        "#brainstorm 3 models that you think may improve results over the baseline model based\n",
        "#on your "
      ],
      "execution_count": 0,
      "outputs": []
    },
    {
      "cell_type": "markdown",
      "metadata": {
        "id": "uMqH-7GDEjmV",
        "colab_type": "text"
      },
      "source": [
        "Brainstorm 3 models that you think may improve results over the baseline model based on your EDA and explain why they're reasonable solutions here.\n",
        "\n",
        "Also write down any new features that you think you should try adding to the model based on your EDA, e.g. interaction variables, summary statistics for each group, etc"
      ]
    },
    {
      "cell_type": "markdown",
      "metadata": {
        "id": "N-iz5GdzEjmX",
        "colab_type": "text"
      },
      "source": [
        "# Part 3 - DEVELOP"
      ]
    },
    {
      "cell_type": "markdown",
      "metadata": {
        "id": "So3BFAVeEjma",
        "colab_type": "text"
      },
      "source": [
        "You will cycle through creating features, tuning models, and training/validing models (steps 7-9) until you've reached your efficacy goal\n",
        "\n",
        "#### Your metric will be MSE and your goal is:\n",
        " - <360 for entry-level data science roles\n",
        " - <320 for senior data science roles"
      ]
    },
    {
      "cell_type": "markdown",
      "metadata": {
        "id": "SH3nnHgEEjmc",
        "colab_type": "text"
      },
      "source": [
        "### ---- 7 Engineer features  ----"
      ]
    },
    {
      "cell_type": "code",
      "metadata": {
        "id": "jOfzW_i8Ejmf",
        "colab_type": "code",
        "colab": {}
      },
      "source": [
        "#make sure that data is ready for modeling\n",
        "#create any new features needed to potentially enhance model"
      ],
      "execution_count": 0,
      "outputs": []
    },
    {
      "cell_type": "markdown",
      "metadata": {
        "id": "ZcK8jIejEjmk",
        "colab_type": "text"
      },
      "source": [
        "### ---- 8 Create models ----"
      ]
    },
    {
      "cell_type": "code",
      "metadata": {
        "id": "CQKYv2lhEjml",
        "colab_type": "code",
        "colab": {}
      },
      "source": [
        "#create and tune the models that you brainstormed during part 2"
      ],
      "execution_count": 0,
      "outputs": []
    },
    {
      "cell_type": "markdown",
      "metadata": {
        "id": "nKwlROojEjmp",
        "colab_type": "text"
      },
      "source": [
        "### ---- 9 Test models ----"
      ]
    },
    {
      "cell_type": "code",
      "metadata": {
        "id": "a6S3U04pEjmq",
        "colab_type": "code",
        "colab": {}
      },
      "source": [
        "#do 5-fold cross validation on models and measure MSE"
      ],
      "execution_count": 0,
      "outputs": []
    },
    {
      "cell_type": "markdown",
      "metadata": {
        "id": "2pBISX3zEjmt",
        "colab_type": "text"
      },
      "source": [
        "### ---- 10 Select best model  ----"
      ]
    },
    {
      "cell_type": "code",
      "metadata": {
        "id": "26wD0jvnEjmu",
        "colab_type": "code",
        "colab": {}
      },
      "source": [
        "#select the model with the lowest error as your \"prodcuction\" model"
      ],
      "execution_count": 0,
      "outputs": []
    },
    {
      "cell_type": "markdown",
      "metadata": {
        "id": "wUFFEDOJEjmx",
        "colab_type": "text"
      },
      "source": [
        "# Part 4 - DEPLOY"
      ]
    },
    {
      "cell_type": "markdown",
      "metadata": {
        "id": "uns2j_e2Ejmy",
        "colab_type": "text"
      },
      "source": [
        "### ---- 11 Automate pipeline ----"
      ]
    },
    {
      "cell_type": "code",
      "metadata": {
        "id": "LcN4JiA6Ejmz",
        "colab_type": "code",
        "colab": {}
      },
      "source": [
        "#write script that trains model on entire training set, saves model to disk,\n",
        "#and scores the \"test\" dataset"
      ],
      "execution_count": 0,
      "outputs": []
    },
    {
      "cell_type": "markdown",
      "metadata": {
        "id": "5HXYBtG6Ejm3",
        "colab_type": "text"
      },
      "source": [
        "### ---- 12 Deploy solution ----"
      ]
    },
    {
      "cell_type": "code",
      "metadata": {
        "id": "3GOwfKZ6Ejm4",
        "colab_type": "code",
        "colab": {}
      },
      "source": [
        "#save your prediction to a csv file or optionally save them as a table in a SQL database\n",
        "#additionally, you want to save a visualization and summary of your prediction and feature importances\n",
        "#these visualizations and summaries will be extremely useful to business stakeholders"
      ],
      "execution_count": 0,
      "outputs": []
    },
    {
      "cell_type": "markdown",
      "metadata": {
        "id": "pSZOOPkQEjm7",
        "colab_type": "text"
      },
      "source": [
        "### ---- 13 Measure efficacy ----"
      ]
    },
    {
      "cell_type": "markdown",
      "metadata": {
        "id": "jH7XpuY0Ejm8",
        "colab_type": "text"
      },
      "source": [
        "We'll skip this step since we don't have the outcomes for the test data"
      ]
    },
    {
      "cell_type": "code",
      "metadata": {
        "id": "fIygVxFiEjm9",
        "colab_type": "code",
        "colab": {}
      },
      "source": [
        ""
      ],
      "execution_count": 0,
      "outputs": []
    },
    {
      "cell_type": "code",
      "metadata": {
        "id": "mrk9yydkEjnD",
        "colab_type": "code",
        "colab": {}
      },
      "source": [
        ""
      ],
      "execution_count": 0,
      "outputs": []
    },
    {
      "cell_type": "code",
      "metadata": {
        "id": "UIOHt-PXEjnN",
        "colab_type": "code",
        "colab": {}
      },
      "source": [
        ""
      ],
      "execution_count": 0,
      "outputs": []
    },
    {
      "cell_type": "code",
      "metadata": {
        "id": "V10f6UPmEjnX",
        "colab_type": "code",
        "colab": {}
      },
      "source": [
        ""
      ],
      "execution_count": 0,
      "outputs": []
    }
  ]
}