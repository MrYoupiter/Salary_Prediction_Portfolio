{
  "nbformat": 4,
  "nbformat_minor": 0,
  "metadata": {
    "kernelspec": {
      "display_name": "Python 3",
      "language": "python",
      "name": "python3"
    },
    "language_info": {
      "codemirror_mode": {
        "name": "ipython",
        "version": 3
      },
      "file_extension": ".py",
      "mimetype": "text/x-python",
      "name": "python",
      "nbconvert_exporter": "python",
      "pygments_lexer": "ipython3",
      "version": "3.6.4"
    },
    "colab": {
      "name": "SalaryPredictionProject.ipynb",
      "provenance": [],
      "collapsed_sections": [
        "wUFFEDOJEjmx"
      ],
      "include_colab_link": true
    }
  },
  "cells": [
    {
      "cell_type": "markdown",
      "metadata": {
        "id": "view-in-github",
        "colab_type": "text"
      },
      "source": [
        "<a href=\"https://colab.research.google.com/github/danishanis/Salary_Prediction_Portfolio/blob/master/SalaryPredictionProject.ipynb\" target=\"_parent\"><img src=\"https://colab.research.google.com/assets/colab-badge.svg\" alt=\"Open In Colab\"/></a>"
      ]
    },
    {
      "cell_type": "markdown",
      "metadata": {
        "id": "TviQBeUAEjlr",
        "colab_type": "text"
      },
      "source": [
        "# Salary Predictions Based on Job Descriptions\n"
      ]
    },
    {
      "cell_type": "markdown",
      "metadata": {
        "id": "4xOvEG9jJhtI",
        "colab_type": "text"
      },
      "source": [
        "**Author - Danish Anis**\n",
        "\n",
        "**Contact - danishanis10@hotmail.com**"
      ]
    },
    {
      "cell_type": "markdown",
      "metadata": {
        "id": "bN05HkyWEjlt",
        "colab_type": "text"
      },
      "source": [
        "# Part 1 - DEFINE"
      ]
    },
    {
      "cell_type": "markdown",
      "metadata": {
        "id": "HQPvBQ6oEjlv",
        "colab_type": "text"
      },
      "source": [
        "## ---- 1 Define the problem ----"
      ]
    },
    {
      "cell_type": "markdown",
      "metadata": {
        "id": "ac6fYB7YEjlw",
        "colab_type": "text"
      },
      "source": [
        "Predicting the salary for a job position is crucial for a business' HR & talent function for optimizing compensation strategy and talent retention in a highly competetive labour market. The aim of this project is to build a salary prediction model for existing and future job seekers by examining an existing dataset of job postings.\n",
        "\n",
        "The analysis is aimed at explaining every step of the process from defining the problem, discovering dataset, developing model and deploying into production. The model applies data transformation and machine learning on features such as work experience, Job Type, Majors, Industry Type, Degree and Miles from metropolis. The final aim is to predict salary for a job posting based on these available features.\n",
        "\n",
        "The data provided to us has been split in training and testing sets. The files included are training data (*train_features_df*), testing data (*test_features_df*) and a Target set (*train_salaries_df*) containing dependent salary feature.\n",
        "\n",
        "The dataset includes available features or labelled columns for analysis as follows:\n",
        "\n",
        "\n",
        "*   **Job ID/jobId** : Given Job ID for the role \n",
        "*   **Company ID** : Company ID for the respective Job ID advertised\n",
        "*   **Degree** : Applicant's qualification/degree \n",
        "*   **Major** : Degree Specialization \n",
        "*   **Industry** : Job ID's categorized industry such as Oil, Auto, Health, Finance etc.\n",
        "*   **Experience (Years)** : Requried Experience for the role\n",
        "*   **Miles from Metropolis** : Distance of the job location in miles from the nearest metropolitan city\n",
        "*   **salary** : In x1000 dollars of the respective Job ID \n",
        "\n",
        "\n"
      ]
    },
    {
      "cell_type": "code",
      "metadata": {
        "id": "Cw99h1HtEjly",
        "colab_type": "code",
        "colab": {}
      },
      "source": [
        "#import your libraries\n",
        "import numpy as np\n",
        "import pandas as pd\n",
        "import seaborn as sns\n",
        "import sys\n",
        "import matplotlib as matplot\n",
        "import matplotlib.pyplot as plt\n",
        "%matplotlib inline\n",
        "\n",
        "import sklearn as sk\n",
        "from sklearn.linear_model import LinearRegression\n",
        "from sklearn.linear_model import Ridge\n",
        "from sklearn.preprocessing import PolynomialFeatures\n",
        "from sklearn.preprocessing import StandardScaler\n",
        "from sklearn.model_selection import train_test_split\n",
        "from sklearn.model_selection import cross_val_score\n",
        "from sklearn.model_selection import cross_val_predict\n"
      ],
      "execution_count": 0,
      "outputs": []
    },
    {
      "cell_type": "markdown",
      "metadata": {
        "id": "EjgWVwKYEjl3",
        "colab_type": "text"
      },
      "source": [
        "# Part 2 - DISCOVER"
      ]
    },
    {
      "cell_type": "markdown",
      "metadata": {
        "id": "YoDhSRIDEjl5",
        "colab_type": "text"
      },
      "source": [
        "## ---- 2 Load the data ----"
      ]
    },
    {
      "cell_type": "code",
      "metadata": {
        "id": "6B9pNP_jC8kL",
        "colab_type": "code",
        "colab": {}
      },
      "source": [
        "#loading data into a pandas dataframe\n",
        "\n",
        "url1 = 'https://raw.githubusercontent.com/danishanis/Salary_Prediction_Portfolio/master/train_features.csv'\n",
        "train_features_df = pd.read_csv(url1)\n",
        "\n",
        "url2 = 'https://raw.githubusercontent.com/danishanis/Salary_Prediction_Portfolio/master/test_features.csv'\n",
        "test_features_df = pd.read_csv(url2)\n",
        "\n",
        "url3 = 'https://raw.githubusercontent.com/danishanis/Salary_Prediction_Portfolio/master/train_salaries.csv'\n",
        "train_salaries_df = pd.read_csv(url3)"
      ],
      "execution_count": 0,
      "outputs": []
    },
    {
      "cell_type": "markdown",
      "metadata": {
        "id": "DBWeT7ULEjl_",
        "colab_type": "text"
      },
      "source": [
        "## ---- 3 Clean the data ----"
      ]
    },
    {
      "cell_type": "code",
      "metadata": {
        "id": "mtJZjfvQPZ7P",
        "colab_type": "code",
        "colab": {}
      },
      "source": [
        "#Renaming columns for ease of exploration\n",
        "\n",
        "train_features_df.rename(columns={'jobId':'Job ID', 'companyId':'Company ID', \n",
        "                                  'jobType':'Job Type','degree':'Degree','major':'Major',\n",
        "                                  'industry':'Industry','yearsExperience':'Experience (Years)',\n",
        "                                 'milesFromMetropolis':'Miles from Metropolis'}, inplace = True)\n",
        "\n",
        "test_features_df.rename(columns={'jobId':'Job ID', 'companyId':'Company ID', \n",
        "                                  'jobType':'Job Type','degree':'Degree','major':'Major',\n",
        "                                  'industry':'Industry','yearsExperience':'Experience (Years)',\n",
        "                                 'milesFromMetropolis':'Miles from Metropolis'}, inplace = True)\n",
        "\n",
        "train_salaries_df.rename(columns={'jobId':'Job ID','salary':'Salary'}, inplace = True)"
      ],
      "execution_count": 0,
      "outputs": []
    },
    {
      "cell_type": "markdown",
      "metadata": {
        "id": "yyS4JdgiV3ok",
        "colab_type": "text"
      },
      "source": [
        "###Verifying that the data is loaded alright by looking at its length, shape and checking values."
      ]
    },
    {
      "cell_type": "code",
      "metadata": {
        "id": "yF0aph4NXSHF",
        "colab_type": "code",
        "outputId": "fd166d33-48d9-4a23-f5c7-71b9a5b3651d",
        "colab": {
          "base_uri": "https://localhost:8080/",
          "height": 238
        }
      },
      "source": [
        "train_features_df.info()"
      ],
      "execution_count": 290,
      "outputs": [
        {
          "output_type": "stream",
          "text": [
            "<class 'pandas.core.frame.DataFrame'>\n",
            "RangeIndex: 1000000 entries, 0 to 999999\n",
            "Data columns (total 8 columns):\n",
            "Job ID                   1000000 non-null object\n",
            "Company ID               1000000 non-null object\n",
            "Job Type                 1000000 non-null object\n",
            "Degree                   1000000 non-null object\n",
            "Major                    1000000 non-null object\n",
            "Industry                 1000000 non-null object\n",
            "Experience (Years)       1000000 non-null int64\n",
            "Miles from Metropolis    1000000 non-null int64\n",
            "dtypes: int64(2), object(6)\n",
            "memory usage: 61.0+ MB\n"
          ],
          "name": "stdout"
        }
      ]
    },
    {
      "cell_type": "code",
      "metadata": {
        "id": "A6QFHqUUXtMQ",
        "colab_type": "code",
        "outputId": "8b3f4c04-a1ce-4256-c091-627bad66f10a",
        "colab": {
          "base_uri": "https://localhost:8080/",
          "height": 68
        }
      },
      "source": [
        "print(train_features_df.shape)\n",
        "print(test_features_df.shape)\n",
        "print(train_salaries_df.shape)"
      ],
      "execution_count": 291,
      "outputs": [
        {
          "output_type": "stream",
          "text": [
            "(1000000, 8)\n",
            "(1000000, 8)\n",
            "(1000000, 2)\n"
          ],
          "name": "stdout"
        }
      ]
    },
    {
      "cell_type": "markdown",
      "metadata": {
        "id": "TWX_lfjeXdSq",
        "colab_type": "text"
      },
      "source": [
        "Both train and test datasets have the same lengths and data types"
      ]
    },
    {
      "cell_type": "code",
      "metadata": {
        "id": "7Eu_zP89ZenM",
        "colab_type": "code",
        "outputId": "50cb8adf-72c1-418f-8d90-4644142c2977",
        "colab": {
          "base_uri": "https://localhost:8080/",
          "height": 204
        }
      },
      "source": [
        "train_features_df.head()"
      ],
      "execution_count": 292,
      "outputs": [
        {
          "output_type": "execute_result",
          "data": {
            "text/html": [
              "<div>\n",
              "<style scoped>\n",
              "    .dataframe tbody tr th:only-of-type {\n",
              "        vertical-align: middle;\n",
              "    }\n",
              "\n",
              "    .dataframe tbody tr th {\n",
              "        vertical-align: top;\n",
              "    }\n",
              "\n",
              "    .dataframe thead th {\n",
              "        text-align: right;\n",
              "    }\n",
              "</style>\n",
              "<table border=\"1\" class=\"dataframe\">\n",
              "  <thead>\n",
              "    <tr style=\"text-align: right;\">\n",
              "      <th></th>\n",
              "      <th>Job ID</th>\n",
              "      <th>Company ID</th>\n",
              "      <th>Job Type</th>\n",
              "      <th>Degree</th>\n",
              "      <th>Major</th>\n",
              "      <th>Industry</th>\n",
              "      <th>Experience (Years)</th>\n",
              "      <th>Miles from Metropolis</th>\n",
              "    </tr>\n",
              "  </thead>\n",
              "  <tbody>\n",
              "    <tr>\n",
              "      <th>0</th>\n",
              "      <td>JOB1362684407687</td>\n",
              "      <td>COMP37</td>\n",
              "      <td>CFO</td>\n",
              "      <td>MASTERS</td>\n",
              "      <td>MATH</td>\n",
              "      <td>HEALTH</td>\n",
              "      <td>10</td>\n",
              "      <td>83</td>\n",
              "    </tr>\n",
              "    <tr>\n",
              "      <th>1</th>\n",
              "      <td>JOB1362684407688</td>\n",
              "      <td>COMP19</td>\n",
              "      <td>CEO</td>\n",
              "      <td>HIGH_SCHOOL</td>\n",
              "      <td>NONE</td>\n",
              "      <td>WEB</td>\n",
              "      <td>3</td>\n",
              "      <td>73</td>\n",
              "    </tr>\n",
              "    <tr>\n",
              "      <th>2</th>\n",
              "      <td>JOB1362684407689</td>\n",
              "      <td>COMP52</td>\n",
              "      <td>VICE_PRESIDENT</td>\n",
              "      <td>DOCTORAL</td>\n",
              "      <td>PHYSICS</td>\n",
              "      <td>HEALTH</td>\n",
              "      <td>10</td>\n",
              "      <td>38</td>\n",
              "    </tr>\n",
              "    <tr>\n",
              "      <th>3</th>\n",
              "      <td>JOB1362684407690</td>\n",
              "      <td>COMP38</td>\n",
              "      <td>MANAGER</td>\n",
              "      <td>DOCTORAL</td>\n",
              "      <td>CHEMISTRY</td>\n",
              "      <td>AUTO</td>\n",
              "      <td>8</td>\n",
              "      <td>17</td>\n",
              "    </tr>\n",
              "    <tr>\n",
              "      <th>4</th>\n",
              "      <td>JOB1362684407691</td>\n",
              "      <td>COMP7</td>\n",
              "      <td>VICE_PRESIDENT</td>\n",
              "      <td>BACHELORS</td>\n",
              "      <td>PHYSICS</td>\n",
              "      <td>FINANCE</td>\n",
              "      <td>8</td>\n",
              "      <td>16</td>\n",
              "    </tr>\n",
              "  </tbody>\n",
              "</table>\n",
              "</div>"
            ],
            "text/plain": [
              "             Job ID Company ID  ... Experience (Years) Miles from Metropolis\n",
              "0  JOB1362684407687     COMP37  ...                 10                    83\n",
              "1  JOB1362684407688     COMP19  ...                  3                    73\n",
              "2  JOB1362684407689     COMP52  ...                 10                    38\n",
              "3  JOB1362684407690     COMP38  ...                  8                    17\n",
              "4  JOB1362684407691      COMP7  ...                  8                    16\n",
              "\n",
              "[5 rows x 8 columns]"
            ]
          },
          "metadata": {
            "tags": []
          },
          "execution_count": 292
        }
      ]
    },
    {
      "cell_type": "code",
      "metadata": {
        "id": "WxBWB3K4Y0ti",
        "colab_type": "code",
        "outputId": "a305fe11-0422-41c6-9ddb-ead1ac33d23c",
        "colab": {
          "base_uri": "https://localhost:8080/",
          "height": 204
        }
      },
      "source": [
        "train_salaries_df.head()"
      ],
      "execution_count": 293,
      "outputs": [
        {
          "output_type": "execute_result",
          "data": {
            "text/html": [
              "<div>\n",
              "<style scoped>\n",
              "    .dataframe tbody tr th:only-of-type {\n",
              "        vertical-align: middle;\n",
              "    }\n",
              "\n",
              "    .dataframe tbody tr th {\n",
              "        vertical-align: top;\n",
              "    }\n",
              "\n",
              "    .dataframe thead th {\n",
              "        text-align: right;\n",
              "    }\n",
              "</style>\n",
              "<table border=\"1\" class=\"dataframe\">\n",
              "  <thead>\n",
              "    <tr style=\"text-align: right;\">\n",
              "      <th></th>\n",
              "      <th>Job ID</th>\n",
              "      <th>Salary</th>\n",
              "    </tr>\n",
              "  </thead>\n",
              "  <tbody>\n",
              "    <tr>\n",
              "      <th>0</th>\n",
              "      <td>JOB1362684407687</td>\n",
              "      <td>130</td>\n",
              "    </tr>\n",
              "    <tr>\n",
              "      <th>1</th>\n",
              "      <td>JOB1362684407688</td>\n",
              "      <td>101</td>\n",
              "    </tr>\n",
              "    <tr>\n",
              "      <th>2</th>\n",
              "      <td>JOB1362684407689</td>\n",
              "      <td>137</td>\n",
              "    </tr>\n",
              "    <tr>\n",
              "      <th>3</th>\n",
              "      <td>JOB1362684407690</td>\n",
              "      <td>142</td>\n",
              "    </tr>\n",
              "    <tr>\n",
              "      <th>4</th>\n",
              "      <td>JOB1362684407691</td>\n",
              "      <td>163</td>\n",
              "    </tr>\n",
              "  </tbody>\n",
              "</table>\n",
              "</div>"
            ],
            "text/plain": [
              "             Job ID  Salary\n",
              "0  JOB1362684407687     130\n",
              "1  JOB1362684407688     101\n",
              "2  JOB1362684407689     137\n",
              "3  JOB1362684407690     142\n",
              "4  JOB1362684407691     163"
            ]
          },
          "metadata": {
            "tags": []
          },
          "execution_count": 293
        }
      ]
    },
    {
      "cell_type": "code",
      "metadata": {
        "id": "OenSQpJQaRzk",
        "colab_type": "code",
        "outputId": "dee5df0c-0b21-4421-db90-23ad9279fa13",
        "colab": {
          "base_uri": "https://localhost:8080/",
          "height": 136
        }
      },
      "source": [
        "train_salaries_df.info()"
      ],
      "execution_count": 294,
      "outputs": [
        {
          "output_type": "stream",
          "text": [
            "<class 'pandas.core.frame.DataFrame'>\n",
            "RangeIndex: 1000000 entries, 0 to 999999\n",
            "Data columns (total 2 columns):\n",
            "Job ID    1000000 non-null object\n",
            "Salary    1000000 non-null int64\n",
            "dtypes: int64(1), object(1)\n",
            "memory usage: 15.3+ MB\n"
          ],
          "name": "stdout"
        }
      ]
    },
    {
      "cell_type": "markdown",
      "metadata": {
        "id": "TXlvxfc2Yilt",
        "colab_type": "text"
      },
      "source": [
        "The dataset 'train_salaries_df' has our dependent target variable, Salary info (to be predicted) along with the Job ID. This is the same Job ID as we have in the previous training and testing datasets. Therefore, train_salaries_df is better to be used for testing the built model for its accuracy.\n",
        "\n",
        "For the sake of ease, the Job ID column in target set shall be merged with the training set later. "
      ]
    },
    {
      "cell_type": "markdown",
      "metadata": {
        "id": "ExCTT4BogNQh",
        "colab_type": "text"
      },
      "source": [
        "###Checking for and removing any missing values."
      ]
    },
    {
      "cell_type": "code",
      "metadata": {
        "id": "I_V5Sc1VgcWC",
        "colab_type": "code",
        "outputId": "856de899-d54f-4e6f-efb8-1334d7557390",
        "colab": {
          "base_uri": "https://localhost:8080/",
          "height": 170
        }
      },
      "source": [
        "train_features_df.isnull().sum()"
      ],
      "execution_count": 295,
      "outputs": [
        {
          "output_type": "execute_result",
          "data": {
            "text/plain": [
              "Job ID                   0\n",
              "Company ID               0\n",
              "Job Type                 0\n",
              "Degree                   0\n",
              "Major                    0\n",
              "Industry                 0\n",
              "Experience (Years)       0\n",
              "Miles from Metropolis    0\n",
              "dtype: int64"
            ]
          },
          "metadata": {
            "tags": []
          },
          "execution_count": 295
        }
      ]
    },
    {
      "cell_type": "code",
      "metadata": {
        "id": "r4UD-FzghSL4",
        "colab_type": "code",
        "outputId": "3f55453d-d13b-4d1f-d78b-feff4f294c4e",
        "colab": {
          "base_uri": "https://localhost:8080/",
          "height": 170
        }
      },
      "source": [
        "train_features_df.isnull().sum()"
      ],
      "execution_count": 296,
      "outputs": [
        {
          "output_type": "execute_result",
          "data": {
            "text/plain": [
              "Job ID                   0\n",
              "Company ID               0\n",
              "Job Type                 0\n",
              "Degree                   0\n",
              "Major                    0\n",
              "Industry                 0\n",
              "Experience (Years)       0\n",
              "Miles from Metropolis    0\n",
              "dtype: int64"
            ]
          },
          "metadata": {
            "tags": []
          },
          "execution_count": 296
        }
      ]
    },
    {
      "cell_type": "markdown",
      "metadata": {
        "id": "XuPqBDqnlDss",
        "colab_type": "text"
      },
      "source": [
        "The training and testing sets do not contain any missing values."
      ]
    },
    {
      "cell_type": "markdown",
      "metadata": {
        "id": "r_unIDu3nqig",
        "colab_type": "text"
      },
      "source": [
        "###As discussed earlier, we've seen the feature training and target sets contain the same Job IDs except that the latter includes out target variable 'Salary'. We would like to see the data sorted by its Job ID all in one place instead of having to open two datasets.\n",
        "\n",
        "This is one of the many functions that the *Pandas Library* includes. "
      ]
    },
    {
      "cell_type": "code",
      "metadata": {
        "id": "jTAdT_GYmAZL",
        "colab_type": "code",
        "colab": {
          "base_uri": "https://localhost:8080/",
          "height": 204
        },
        "outputId": "a660d0c5-1b19-4ec8-af4c-a04b865cb4ba"
      },
      "source": [
        "#Merging the training features and salaries (target) dataset along Job ID column \n",
        "train_merged = pd.merge(train_features_df, train_salaries_df, on ='Job ID', how = 'inner')\n",
        "train_merged.head()"
      ],
      "execution_count": 297,
      "outputs": [
        {
          "output_type": "execute_result",
          "data": {
            "text/html": [
              "<div>\n",
              "<style scoped>\n",
              "    .dataframe tbody tr th:only-of-type {\n",
              "        vertical-align: middle;\n",
              "    }\n",
              "\n",
              "    .dataframe tbody tr th {\n",
              "        vertical-align: top;\n",
              "    }\n",
              "\n",
              "    .dataframe thead th {\n",
              "        text-align: right;\n",
              "    }\n",
              "</style>\n",
              "<table border=\"1\" class=\"dataframe\">\n",
              "  <thead>\n",
              "    <tr style=\"text-align: right;\">\n",
              "      <th></th>\n",
              "      <th>Job ID</th>\n",
              "      <th>Company ID</th>\n",
              "      <th>Job Type</th>\n",
              "      <th>Degree</th>\n",
              "      <th>Major</th>\n",
              "      <th>Industry</th>\n",
              "      <th>Experience (Years)</th>\n",
              "      <th>Miles from Metropolis</th>\n",
              "      <th>Salary</th>\n",
              "    </tr>\n",
              "  </thead>\n",
              "  <tbody>\n",
              "    <tr>\n",
              "      <th>0</th>\n",
              "      <td>JOB1362684407687</td>\n",
              "      <td>COMP37</td>\n",
              "      <td>CFO</td>\n",
              "      <td>MASTERS</td>\n",
              "      <td>MATH</td>\n",
              "      <td>HEALTH</td>\n",
              "      <td>10</td>\n",
              "      <td>83</td>\n",
              "      <td>130</td>\n",
              "    </tr>\n",
              "    <tr>\n",
              "      <th>1</th>\n",
              "      <td>JOB1362684407688</td>\n",
              "      <td>COMP19</td>\n",
              "      <td>CEO</td>\n",
              "      <td>HIGH_SCHOOL</td>\n",
              "      <td>NONE</td>\n",
              "      <td>WEB</td>\n",
              "      <td>3</td>\n",
              "      <td>73</td>\n",
              "      <td>101</td>\n",
              "    </tr>\n",
              "    <tr>\n",
              "      <th>2</th>\n",
              "      <td>JOB1362684407689</td>\n",
              "      <td>COMP52</td>\n",
              "      <td>VICE_PRESIDENT</td>\n",
              "      <td>DOCTORAL</td>\n",
              "      <td>PHYSICS</td>\n",
              "      <td>HEALTH</td>\n",
              "      <td>10</td>\n",
              "      <td>38</td>\n",
              "      <td>137</td>\n",
              "    </tr>\n",
              "    <tr>\n",
              "      <th>3</th>\n",
              "      <td>JOB1362684407690</td>\n",
              "      <td>COMP38</td>\n",
              "      <td>MANAGER</td>\n",
              "      <td>DOCTORAL</td>\n",
              "      <td>CHEMISTRY</td>\n",
              "      <td>AUTO</td>\n",
              "      <td>8</td>\n",
              "      <td>17</td>\n",
              "      <td>142</td>\n",
              "    </tr>\n",
              "    <tr>\n",
              "      <th>4</th>\n",
              "      <td>JOB1362684407691</td>\n",
              "      <td>COMP7</td>\n",
              "      <td>VICE_PRESIDENT</td>\n",
              "      <td>BACHELORS</td>\n",
              "      <td>PHYSICS</td>\n",
              "      <td>FINANCE</td>\n",
              "      <td>8</td>\n",
              "      <td>16</td>\n",
              "      <td>163</td>\n",
              "    </tr>\n",
              "  </tbody>\n",
              "</table>\n",
              "</div>"
            ],
            "text/plain": [
              "             Job ID Company ID  ... Miles from Metropolis Salary\n",
              "0  JOB1362684407687     COMP37  ...                    83    130\n",
              "1  JOB1362684407688     COMP19  ...                    73    101\n",
              "2  JOB1362684407689     COMP52  ...                    38    137\n",
              "3  JOB1362684407690     COMP38  ...                    17    142\n",
              "4  JOB1362684407691      COMP7  ...                    16    163\n",
              "\n",
              "[5 rows x 9 columns]"
            ]
          },
          "metadata": {
            "tags": []
          },
          "execution_count": 297
        }
      ]
    },
    {
      "cell_type": "code",
      "metadata": {
        "id": "TcDFzapAxvLL",
        "colab_type": "code",
        "colab": {
          "base_uri": "https://localhost:8080/",
          "height": 187
        },
        "outputId": "9644ec92-59a5-4bfc-eeb7-ae362787cf1b"
      },
      "source": [
        "#Checking for any missing values in the newly merged dataset\n",
        "train_merged.isnull().sum()"
      ],
      "execution_count": 298,
      "outputs": [
        {
          "output_type": "execute_result",
          "data": {
            "text/plain": [
              "Job ID                   0\n",
              "Company ID               0\n",
              "Job Type                 0\n",
              "Degree                   0\n",
              "Major                    0\n",
              "Industry                 0\n",
              "Experience (Years)       0\n",
              "Miles from Metropolis    0\n",
              "Salary                   0\n",
              "dtype: int64"
            ]
          },
          "metadata": {
            "tags": []
          },
          "execution_count": 298
        }
      ]
    },
    {
      "cell_type": "code",
      "metadata": {
        "id": "y1yTG4-0yCJT",
        "colab_type": "code",
        "colab": {
          "base_uri": "https://localhost:8080/",
          "height": 34
        },
        "outputId": "4776b098-da03-4ab7-8c7f-f8a6694bce3e"
      },
      "source": [
        "#Checking if any Salary attributes have '0' value\n",
        "len(train_merged[train_merged['Salary']==0])"
      ],
      "execution_count": 299,
      "outputs": [
        {
          "output_type": "execute_result",
          "data": {
            "text/plain": [
              "5"
            ]
          },
          "metadata": {
            "tags": []
          },
          "execution_count": 299
        }
      ]
    },
    {
      "cell_type": "code",
      "metadata": {
        "id": "QVDUb4Cgyaz3",
        "colab_type": "code",
        "colab": {
          "base_uri": "https://localhost:8080/",
          "height": 204
        },
        "outputId": "72a55090-b341-4f4a-c0df-4ac9e8131734"
      },
      "source": [
        "#Displaying the rows that have '0' as their salary values\n",
        "train_merged[train_merged['Salary']==0]"
      ],
      "execution_count": 300,
      "outputs": [
        {
          "output_type": "execute_result",
          "data": {
            "text/html": [
              "<div>\n",
              "<style scoped>\n",
              "    .dataframe tbody tr th:only-of-type {\n",
              "        vertical-align: middle;\n",
              "    }\n",
              "\n",
              "    .dataframe tbody tr th {\n",
              "        vertical-align: top;\n",
              "    }\n",
              "\n",
              "    .dataframe thead th {\n",
              "        text-align: right;\n",
              "    }\n",
              "</style>\n",
              "<table border=\"1\" class=\"dataframe\">\n",
              "  <thead>\n",
              "    <tr style=\"text-align: right;\">\n",
              "      <th></th>\n",
              "      <th>Job ID</th>\n",
              "      <th>Company ID</th>\n",
              "      <th>Job Type</th>\n",
              "      <th>Degree</th>\n",
              "      <th>Major</th>\n",
              "      <th>Industry</th>\n",
              "      <th>Experience (Years)</th>\n",
              "      <th>Miles from Metropolis</th>\n",
              "      <th>Salary</th>\n",
              "    </tr>\n",
              "  </thead>\n",
              "  <tbody>\n",
              "    <tr>\n",
              "      <th>30559</th>\n",
              "      <td>JOB1362684438246</td>\n",
              "      <td>COMP44</td>\n",
              "      <td>JUNIOR</td>\n",
              "      <td>DOCTORAL</td>\n",
              "      <td>MATH</td>\n",
              "      <td>AUTO</td>\n",
              "      <td>11</td>\n",
              "      <td>7</td>\n",
              "      <td>0</td>\n",
              "    </tr>\n",
              "    <tr>\n",
              "      <th>495984</th>\n",
              "      <td>JOB1362684903671</td>\n",
              "      <td>COMP34</td>\n",
              "      <td>JUNIOR</td>\n",
              "      <td>NONE</td>\n",
              "      <td>NONE</td>\n",
              "      <td>OIL</td>\n",
              "      <td>1</td>\n",
              "      <td>25</td>\n",
              "      <td>0</td>\n",
              "    </tr>\n",
              "    <tr>\n",
              "      <th>652076</th>\n",
              "      <td>JOB1362685059763</td>\n",
              "      <td>COMP25</td>\n",
              "      <td>CTO</td>\n",
              "      <td>HIGH_SCHOOL</td>\n",
              "      <td>NONE</td>\n",
              "      <td>AUTO</td>\n",
              "      <td>6</td>\n",
              "      <td>60</td>\n",
              "      <td>0</td>\n",
              "    </tr>\n",
              "    <tr>\n",
              "      <th>816129</th>\n",
              "      <td>JOB1362685223816</td>\n",
              "      <td>COMP42</td>\n",
              "      <td>MANAGER</td>\n",
              "      <td>DOCTORAL</td>\n",
              "      <td>ENGINEERING</td>\n",
              "      <td>FINANCE</td>\n",
              "      <td>18</td>\n",
              "      <td>6</td>\n",
              "      <td>0</td>\n",
              "    </tr>\n",
              "    <tr>\n",
              "      <th>828156</th>\n",
              "      <td>JOB1362685235843</td>\n",
              "      <td>COMP40</td>\n",
              "      <td>VICE_PRESIDENT</td>\n",
              "      <td>MASTERS</td>\n",
              "      <td>ENGINEERING</td>\n",
              "      <td>WEB</td>\n",
              "      <td>3</td>\n",
              "      <td>29</td>\n",
              "      <td>0</td>\n",
              "    </tr>\n",
              "  </tbody>\n",
              "</table>\n",
              "</div>"
            ],
            "text/plain": [
              "                  Job ID Company ID  ... Miles from Metropolis Salary\n",
              "30559   JOB1362684438246     COMP44  ...                     7      0\n",
              "495984  JOB1362684903671     COMP34  ...                    25      0\n",
              "652076  JOB1362685059763     COMP25  ...                    60      0\n",
              "816129  JOB1362685223816     COMP42  ...                     6      0\n",
              "828156  JOB1362685235843     COMP40  ...                    29      0\n",
              "\n",
              "[5 rows x 9 columns]"
            ]
          },
          "metadata": {
            "tags": []
          },
          "execution_count": 300
        }
      ]
    },
    {
      "cell_type": "markdown",
      "metadata": {
        "id": "Hjt50js4y1jK",
        "colab_type": "text"
      },
      "source": [
        "*Now we know that their are 5 unique Job IDs that don't have any salary listed. It is better if we remove these rows from the dataset, since they do not contribute to the model training, besides being unrealistic and very small in number to have any negative affect on the training.*"
      ]
    },
    {
      "cell_type": "code",
      "metadata": {
        "id": "U_2Bx_4xzGfl",
        "colab_type": "code",
        "colab": {}
      },
      "source": [
        "#Removing rows with Salary value 0\n",
        "\n",
        "train_merged = train_merged[train_merged.Salary!= 0]"
      ],
      "execution_count": 0,
      "outputs": []
    },
    {
      "cell_type": "markdown",
      "metadata": {
        "id": "YlKCEN0yFFF5",
        "colab_type": "text"
      },
      "source": [
        "Once rows with 0 salary are dropped, the index values need to be re-arranged so there is no confusion in the future."
      ]
    },
    {
      "cell_type": "code",
      "metadata": {
        "id": "N1_xlGx5FDoO",
        "colab_type": "code",
        "colab": {
          "base_uri": "https://localhost:8080/",
          "height": 221
        },
        "outputId": "db413bc9-4c66-4ee2-9e68-25ef6989b30c"
      },
      "source": [
        "#Resetting the index values\n",
        "print(train_merged.shape)\n",
        "train_merged.reset_index(drop = True).head()"
      ],
      "execution_count": 302,
      "outputs": [
        {
          "output_type": "stream",
          "text": [
            "(999995, 9)\n"
          ],
          "name": "stdout"
        },
        {
          "output_type": "execute_result",
          "data": {
            "text/html": [
              "<div>\n",
              "<style scoped>\n",
              "    .dataframe tbody tr th:only-of-type {\n",
              "        vertical-align: middle;\n",
              "    }\n",
              "\n",
              "    .dataframe tbody tr th {\n",
              "        vertical-align: top;\n",
              "    }\n",
              "\n",
              "    .dataframe thead th {\n",
              "        text-align: right;\n",
              "    }\n",
              "</style>\n",
              "<table border=\"1\" class=\"dataframe\">\n",
              "  <thead>\n",
              "    <tr style=\"text-align: right;\">\n",
              "      <th></th>\n",
              "      <th>Job ID</th>\n",
              "      <th>Company ID</th>\n",
              "      <th>Job Type</th>\n",
              "      <th>Degree</th>\n",
              "      <th>Major</th>\n",
              "      <th>Industry</th>\n",
              "      <th>Experience (Years)</th>\n",
              "      <th>Miles from Metropolis</th>\n",
              "      <th>Salary</th>\n",
              "    </tr>\n",
              "  </thead>\n",
              "  <tbody>\n",
              "    <tr>\n",
              "      <th>0</th>\n",
              "      <td>JOB1362684407687</td>\n",
              "      <td>COMP37</td>\n",
              "      <td>CFO</td>\n",
              "      <td>MASTERS</td>\n",
              "      <td>MATH</td>\n",
              "      <td>HEALTH</td>\n",
              "      <td>10</td>\n",
              "      <td>83</td>\n",
              "      <td>130</td>\n",
              "    </tr>\n",
              "    <tr>\n",
              "      <th>1</th>\n",
              "      <td>JOB1362684407688</td>\n",
              "      <td>COMP19</td>\n",
              "      <td>CEO</td>\n",
              "      <td>HIGH_SCHOOL</td>\n",
              "      <td>NONE</td>\n",
              "      <td>WEB</td>\n",
              "      <td>3</td>\n",
              "      <td>73</td>\n",
              "      <td>101</td>\n",
              "    </tr>\n",
              "    <tr>\n",
              "      <th>2</th>\n",
              "      <td>JOB1362684407689</td>\n",
              "      <td>COMP52</td>\n",
              "      <td>VICE_PRESIDENT</td>\n",
              "      <td>DOCTORAL</td>\n",
              "      <td>PHYSICS</td>\n",
              "      <td>HEALTH</td>\n",
              "      <td>10</td>\n",
              "      <td>38</td>\n",
              "      <td>137</td>\n",
              "    </tr>\n",
              "    <tr>\n",
              "      <th>3</th>\n",
              "      <td>JOB1362684407690</td>\n",
              "      <td>COMP38</td>\n",
              "      <td>MANAGER</td>\n",
              "      <td>DOCTORAL</td>\n",
              "      <td>CHEMISTRY</td>\n",
              "      <td>AUTO</td>\n",
              "      <td>8</td>\n",
              "      <td>17</td>\n",
              "      <td>142</td>\n",
              "    </tr>\n",
              "    <tr>\n",
              "      <th>4</th>\n",
              "      <td>JOB1362684407691</td>\n",
              "      <td>COMP7</td>\n",
              "      <td>VICE_PRESIDENT</td>\n",
              "      <td>BACHELORS</td>\n",
              "      <td>PHYSICS</td>\n",
              "      <td>FINANCE</td>\n",
              "      <td>8</td>\n",
              "      <td>16</td>\n",
              "      <td>163</td>\n",
              "    </tr>\n",
              "  </tbody>\n",
              "</table>\n",
              "</div>"
            ],
            "text/plain": [
              "             Job ID Company ID  ... Miles from Metropolis Salary\n",
              "0  JOB1362684407687     COMP37  ...                    83    130\n",
              "1  JOB1362684407688     COMP19  ...                    73    101\n",
              "2  JOB1362684407689     COMP52  ...                    38    137\n",
              "3  JOB1362684407690     COMP38  ...                    17    142\n",
              "4  JOB1362684407691      COMP7  ...                    16    163\n",
              "\n",
              "[5 rows x 9 columns]"
            ]
          },
          "metadata": {
            "tags": []
          },
          "execution_count": 302
        }
      ]
    },
    {
      "cell_type": "markdown",
      "metadata": {
        "id": "fuPKMimro51T",
        "colab_type": "text"
      },
      "source": [
        "We can now check for further information in the dataset like the unique attributes in every feature contributing to our salary prediciton problem."
      ]
    },
    {
      "cell_type": "code",
      "metadata": {
        "id": "mVrNhXVgo0pU",
        "colab_type": "code",
        "colab": {
          "base_uri": "https://localhost:8080/",
          "height": 187
        },
        "outputId": "b5866714-2c31-4ef3-ad6a-912f3a570d7b"
      },
      "source": [
        "#Looking for Unique values\n",
        "train_merged.nunique()"
      ],
      "execution_count": 303,
      "outputs": [
        {
          "output_type": "execute_result",
          "data": {
            "text/plain": [
              "Job ID                   999995\n",
              "Company ID                   63\n",
              "Job Type                      8\n",
              "Degree                        5\n",
              "Major                         9\n",
              "Industry                      7\n",
              "Experience (Years)           25\n",
              "Miles from Metropolis       100\n",
              "Salary                      279\n",
              "dtype: int64"
            ]
          },
          "metadata": {
            "tags": []
          },
          "execution_count": 303
        }
      ]
    },
    {
      "cell_type": "markdown",
      "metadata": {
        "id": "y9yWaTXqpUIy",
        "colab_type": "text"
      },
      "source": [
        "This tells us that our dataset has nearly 1 million job descriptions from 63 companies advertizing 8 unique job types in 7 different industries. There are mainly 5 Degree and 9 Major requirements included. Depending on job types, the experience feature has 25 unique values and locations that are at 100 different metrics (miles) away from closest metropolitan city.     "
      ]
    },
    {
      "cell_type": "code",
      "metadata": {
        "id": "tVKl8zU0vnEJ",
        "colab_type": "code",
        "colab": {
          "base_uri": "https://localhost:8080/",
          "height": 34
        },
        "outputId": "e4fc298f-3dd0-4cdd-f188-2ec02cd5b40f"
      },
      "source": [
        "#Checking for duplicate values\n",
        "\n",
        "train_merged.duplicated().any()"
      ],
      "execution_count": 304,
      "outputs": [
        {
          "output_type": "execute_result",
          "data": {
            "text/plain": [
              "False"
            ]
          },
          "metadata": {
            "tags": []
          },
          "execution_count": 304
        }
      ]
    },
    {
      "cell_type": "markdown",
      "metadata": {
        "id": "HNm2DHkevxeO",
        "colab_type": "text"
      },
      "source": [
        "There are no duplicate values in the dataset."
      ]
    },
    {
      "cell_type": "markdown",
      "metadata": {
        "id": "5Zs-jMRJwcas",
        "colab_type": "text"
      },
      "source": [
        "Data types are checked to make sure they are appropriate corresponding to the columns using .dtypes."
      ]
    },
    {
      "cell_type": "code",
      "metadata": {
        "id": "h4rD7t0wv7Ig",
        "colab_type": "code",
        "colab": {
          "base_uri": "https://localhost:8080/",
          "height": 187
        },
        "outputId": "7d47753b-36c2-457f-e396-1a355b92c15a"
      },
      "source": [
        "train_merged.dtypes"
      ],
      "execution_count": 305,
      "outputs": [
        {
          "output_type": "execute_result",
          "data": {
            "text/plain": [
              "Job ID                   object\n",
              "Company ID               object\n",
              "Job Type                 object\n",
              "Degree                   object\n",
              "Major                    object\n",
              "Industry                 object\n",
              "Experience (Years)        int64\n",
              "Miles from Metropolis     int64\n",
              "Salary                    int64\n",
              "dtype: object"
            ]
          },
          "metadata": {
            "tags": []
          },
          "execution_count": 305
        }
      ]
    },
    {
      "cell_type": "markdown",
      "metadata": {
        "id": "mUxNkbSqxEaL",
        "colab_type": "text"
      },
      "source": [
        "###We can now procede to look at some of the summary statistics to get a better understanding of the data. This mainly includes descriptive statistics concerning all the numerical data in the dataset. \n",
        "\n",
        "This will be done in the next section as a part of the Exploratory Data Analysis (EDA) "
      ]
    },
    {
      "cell_type": "markdown",
      "metadata": {
        "id": "RBXUG4rlEjmF",
        "colab_type": "text"
      },
      "source": [
        "## ---- 4 Explore the data (EDA) ----"
      ]
    },
    {
      "cell_type": "markdown",
      "metadata": {
        "id": "xrpvp1i2XFBK",
        "colab_type": "text"
      },
      "source": [
        "###The aim of EDA is to -\n",
        "\n",
        "\n",
        "*   Summarize each feature variable\n",
        "*   Summarize target variable\n",
        "*   Summarize correlation between each feature and target\n",
        "*   Summarize correlation between features\n",
        "\n",
        "\n"
      ]
    },
    {
      "cell_type": "code",
      "metadata": {
        "id": "hJkx6FkvEjmG",
        "colab_type": "code",
        "colab": {}
      },
      "source": [
        "#summarize each feature variable\n",
        "#summarize the target variable\n",
        "#look for correlation between each feature and the target\n",
        "#look for correlation between features"
      ],
      "execution_count": 0,
      "outputs": []
    },
    {
      "cell_type": "code",
      "metadata": {
        "id": "lXgdMJT7xCAj",
        "colab_type": "code",
        "colab": {
          "base_uri": "https://localhost:8080/",
          "height": 297
        },
        "outputId": "f3a8a791-26b4-4123-e6c7-c74a4f4c44e4"
      },
      "source": [
        "#Summary Statistics for numerical data\n",
        "\n",
        "train_merged.describe()"
      ],
      "execution_count": 307,
      "outputs": [
        {
          "output_type": "execute_result",
          "data": {
            "text/html": [
              "<div>\n",
              "<style scoped>\n",
              "    .dataframe tbody tr th:only-of-type {\n",
              "        vertical-align: middle;\n",
              "    }\n",
              "\n",
              "    .dataframe tbody tr th {\n",
              "        vertical-align: top;\n",
              "    }\n",
              "\n",
              "    .dataframe thead th {\n",
              "        text-align: right;\n",
              "    }\n",
              "</style>\n",
              "<table border=\"1\" class=\"dataframe\">\n",
              "  <thead>\n",
              "    <tr style=\"text-align: right;\">\n",
              "      <th></th>\n",
              "      <th>Experience (Years)</th>\n",
              "      <th>Miles from Metropolis</th>\n",
              "      <th>Salary</th>\n",
              "    </tr>\n",
              "  </thead>\n",
              "  <tbody>\n",
              "    <tr>\n",
              "      <th>count</th>\n",
              "      <td>999995.000000</td>\n",
              "      <td>999995.000000</td>\n",
              "      <td>999995.000000</td>\n",
              "    </tr>\n",
              "    <tr>\n",
              "      <th>mean</th>\n",
              "      <td>11.992407</td>\n",
              "      <td>49.529381</td>\n",
              "      <td>116.062398</td>\n",
              "    </tr>\n",
              "    <tr>\n",
              "      <th>std</th>\n",
              "      <td>7.212390</td>\n",
              "      <td>28.877721</td>\n",
              "      <td>38.717163</td>\n",
              "    </tr>\n",
              "    <tr>\n",
              "      <th>min</th>\n",
              "      <td>0.000000</td>\n",
              "      <td>0.000000</td>\n",
              "      <td>17.000000</td>\n",
              "    </tr>\n",
              "    <tr>\n",
              "      <th>25%</th>\n",
              "      <td>6.000000</td>\n",
              "      <td>25.000000</td>\n",
              "      <td>88.000000</td>\n",
              "    </tr>\n",
              "    <tr>\n",
              "      <th>50%</th>\n",
              "      <td>12.000000</td>\n",
              "      <td>50.000000</td>\n",
              "      <td>114.000000</td>\n",
              "    </tr>\n",
              "    <tr>\n",
              "      <th>75%</th>\n",
              "      <td>18.000000</td>\n",
              "      <td>75.000000</td>\n",
              "      <td>141.000000</td>\n",
              "    </tr>\n",
              "    <tr>\n",
              "      <th>max</th>\n",
              "      <td>24.000000</td>\n",
              "      <td>99.000000</td>\n",
              "      <td>301.000000</td>\n",
              "    </tr>\n",
              "  </tbody>\n",
              "</table>\n",
              "</div>"
            ],
            "text/plain": [
              "       Experience (Years)  Miles from Metropolis         Salary\n",
              "count       999995.000000          999995.000000  999995.000000\n",
              "mean            11.992407              49.529381     116.062398\n",
              "std              7.212390              28.877721      38.717163\n",
              "min              0.000000               0.000000      17.000000\n",
              "25%              6.000000              25.000000      88.000000\n",
              "50%             12.000000              50.000000     114.000000\n",
              "75%             18.000000              75.000000     141.000000\n",
              "max             24.000000              99.000000     301.000000"
            ]
          },
          "metadata": {
            "tags": []
          },
          "execution_count": 307
        }
      ]
    },
    {
      "cell_type": "code",
      "metadata": {
        "id": "69fQUZRKWvpY",
        "colab_type": "code",
        "colab": {
          "base_uri": "https://localhost:8080/",
          "height": 51
        },
        "outputId": "f026eb66-c1ae-4158-8b2f-464017dc0ae8"
      },
      "source": [
        "print(\"The Average Overall Salary is: $\", round(train_merged['Salary'].mean()),'000')\n",
        "print(\"The Salary Standard Deviation is: \", train_merged['Salary'].std())"
      ],
      "execution_count": 308,
      "outputs": [
        {
          "output_type": "stream",
          "text": [
            "The Average Overall Salary is: $ 116 000\n",
            "The Salary Standard Deviation is:  38.71716338504513\n"
          ],
          "name": "stdout"
        }
      ]
    },
    {
      "cell_type": "markdown",
      "metadata": {
        "id": "t9DhSv2s1vGj",
        "colab_type": "text"
      },
      "source": [
        "This is mainly to find out if the minimum, maximum, standard deviation being displayed in the data is appropriate/realistic or not. We can see that values of these metrics are normal."
      ]
    },
    {
      "cell_type": "markdown",
      "metadata": {
        "id": "yiEjdhHeXzZX",
        "colab_type": "text"
      },
      "source": [
        "*We have given a count of the unique values in every feature earlier. We will now look at the number of different unique values exist in every column*"
      ]
    },
    {
      "cell_type": "code",
      "metadata": {
        "id": "iYy5eZEEYFuz",
        "colab_type": "code",
        "colab": {
          "base_uri": "https://localhost:8080/",
          "height": 578
        },
        "outputId": "d930b74c-38da-4b1e-bbc3-8d23b66ca7a3"
      },
      "source": [
        "# Creating a function for dataset categorical vaues\n",
        "col_names = ['Job Type', 'Company ID','Degree','Major','Industry']\n",
        "\n",
        "for col in col_names:\n",
        "    if col != 'Job ID' and col != 'Company ID':\n",
        "       print(train_merged[col].value_counts())"
      ],
      "execution_count": 309,
      "outputs": [
        {
          "output_type": "stream",
          "text": [
            "SENIOR            125886\n",
            "VICE_PRESIDENT    125234\n",
            "MANAGER           125120\n",
            "CTO               125045\n",
            "JANITOR           124971\n",
            "CEO               124778\n",
            "JUNIOR            124592\n",
            "CFO               124369\n",
            "Name: Job Type, dtype: int64\n",
            "HIGH_SCHOOL    236975\n",
            "NONE           236853\n",
            "BACHELORS      175495\n",
            "DOCTORAL       175362\n",
            "MASTERS        175310\n",
            "Name: Degree, dtype: int64\n",
            "NONE           532353\n",
            "CHEMISTRY       58875\n",
            "LITERATURE      58684\n",
            "ENGINEERING     58594\n",
            "BUSINESS        58518\n",
            "PHYSICS         58410\n",
            "COMPSCI         58382\n",
            "BIOLOGY         58379\n",
            "MATH            57800\n",
            "Name: Major, dtype: int64\n",
            "WEB          143205\n",
            "AUTO         142941\n",
            "FINANCE      142866\n",
            "EDUCATION    142819\n",
            "OIL          142770\n",
            "HEALTH       142755\n",
            "SERVICE      142639\n",
            "Name: Industry, dtype: int64\n"
          ],
          "name": "stdout"
        }
      ]
    },
    {
      "cell_type": "markdown",
      "metadata": {
        "id": "fDDtE5CPZpR9",
        "colab_type": "text"
      },
      "source": [
        "The for loop created iterates through every column with categorical values in the dataset starting from Job Type to Degree, Major and Industry and counts the value of every unique entry in the respective columns along with their frequency in the dataset.\n",
        "\n",
        "This way, we get the different number of job id's assigned to every unique entry in the categorical dataset."
      ]
    },
    {
      "cell_type": "markdown",
      "metadata": {
        "id": "wGAaT8Vya28C",
        "colab_type": "text"
      },
      "source": [
        "### Visualizing the Target Variable (Salary) "
      ]
    },
    {
      "cell_type": "markdown",
      "metadata": {
        "id": "Roa1zrolbb1z",
        "colab_type": "text"
      },
      "source": [
        "*As a part of visualization, we would like to see if the target variable in the training set is distributed normally. This can be done by:* \n",
        "\n",
        "*a) A Box Plot showing Inter Quartile Ranges; and*\n",
        "\n",
        "*b) A Distribution Plot to visualize shaded regions specifying a data value range. (skewness and kurtosis)*  "
      ]
    },
    {
      "cell_type": "code",
      "metadata": {
        "id": "H4ENcox9OFKp",
        "colab_type": "code",
        "colab": {
          "base_uri": "https://localhost:8080/",
          "height": 102
        },
        "outputId": "c44fbce3-95ea-447a-f248-a6f31d5d258e"
      },
      "source": [
        "# Checking plot skewness and kurtosis\n",
        "\n",
        "print('Salary Skewness:', train_merged['Salary'].skew())\n",
        "print('Salary Kurtosis:', train_merged['Salary'].kurt())\n",
        "print('\\n')\n",
        "if -0.5 <= train_merged['Salary'].skew() <= 0.5:\n",
        "    print('We can conclude that salary distribution is approximately symmetric')\n",
        "elif -0.5 >  train_merged['Salary'] > 0.5:\n",
        "    print('We can conclude that salary distribution is skewed')"
      ],
      "execution_count": 310,
      "outputs": [
        {
          "output_type": "stream",
          "text": [
            "Salary Skewness: 0.34652727907668734\n",
            "Salary Kurtosis: -0.025750772283374967\n",
            "\n",
            "\n",
            "We can conclude that salary distribution is approximately symmetric\n"
          ],
          "name": "stdout"
        }
      ]
    },
    {
      "cell_type": "code",
      "metadata": {
        "id": "S2o7MT-p0Fow",
        "colab_type": "code",
        "colab": {
          "base_uri": "https://localhost:8080/",
          "height": 499
        },
        "outputId": "9af8ed80-a1b9-41d3-ce2b-af10f3a96553"
      },
      "source": [
        "#Visualizing Salary\n",
        "\n",
        "f, ax = plt.subplots(1,2,figsize=(18,6))\n",
        "sns.distplot(train_merged['Salary'], ax=ax[0], bins=40, kde=True, norm_hist=True)\n",
        "ax[0].axvline(np.mean(train_merged['Salary']), color='black')\n",
        "ax[0].axvline(np.median(train_merged['Salary']), color='darkblue', linestyle='--')\n",
        "ax[0].set_title('Salary Histogram',fontsize = 14)\n",
        "sns.boxplot(train_merged['Salary'], ax=ax[1], color='gold')\n",
        "ax[1].set_title('Salary Boxplot', fontsize = 14)\n",
        "f.suptitle('Distribution of Salary', fontsize = 18)\n",
        "\n",
        "print(\"The Black line in Dist. Plot shows the mean at: \",round(train_merged['Salary'].mean()))\n",
        "print(\"The Dotted line in the Dist. Plot shows the median at: \", round(train_merged['Salary'].median()))\n",
        "\n",
        "#Displaying the Upper & Lower limits of the range of Salary with IQR rule.\n",
        "\n",
        "stat = train_merged.Salary.describe()\n",
        "#print(stat)\n",
        "IQR = stat['75%'] - stat['25%']\n",
        "upper = stat['75%'] + 1.5 * IQR\n",
        "lower = stat['25%'] - 1.5 * IQR\n",
        "print('The Inter-quartile Range (IQR) is: ', IQR)\n",
        "print('The Upper and Lower Bounds for suspected outliers in the Boxplot are {} and {}.'.format(upper, lower))"
      ],
      "execution_count": 311,
      "outputs": [
        {
          "output_type": "stream",
          "text": [
            "The Black line in Dist. Plot shows the mean at:  116\n",
            "The Dotted line in the Dist. Plot shows the median at:  114\n",
            "The Inter-quartile Range (IQR) is:  53.0\n",
            "The Upper and Lower Bounds for suspected outliers in the Boxplot are 220.5 and 8.5.\n"
          ],
          "name": "stdout"
        },
        {
          "output_type": "display_data",
          "data": {
            "image/png": "[encoded data removed]",
            "text/plain": [
              "<Figure size 1296x432 with 2 Axes>"
            ]
          },
          "metadata": {
            "tags": []
          }
        }
      ]
    },
    {
      "cell_type": "code",
      "metadata": {
        "id": "3kJbqrDX3waz",
        "colab_type": "code",
        "colab": {
          "base_uri": "https://localhost:8080/",
          "height": 170
        },
        "outputId": "5ace80cb-f20d-42b4-d230-073e1259a67b"
      },
      "source": [
        "print(stat)"
      ],
      "execution_count": 312,
      "outputs": [
        {
          "output_type": "stream",
          "text": [
            "count    999995.000000\n",
            "mean        116.062398\n",
            "std          38.717163\n",
            "min          17.000000\n",
            "25%          88.000000\n",
            "50%         114.000000\n",
            "75%         141.000000\n",
            "max         301.000000\n",
            "Name: Salary, dtype: float64\n"
          ],
          "name": "stdout"
        }
      ]
    },
    {
      "cell_type": "markdown",
      "metadata": {
        "id": "X-YZZqdVyInh",
        "colab_type": "text"
      },
      "source": [
        "We can say that the findings of Skewness and Kurtosis in the previous cell is confirmed as the Salary follows an almost normal distribution with some very little amount of Skew to the right.\n",
        "\n",
        "There can be observed some outliers in the Boxplot which will have to be analyzed for significance and cleaned if needed."
      ]
    },
    {
      "cell_type": "markdown",
      "metadata": {
        "id": "vid_U0FH58Ki",
        "colab_type": "text"
      },
      "source": [
        "###Analyzing Outliers from Boxplot and cleaning data further"
      ]
    },
    {
      "cell_type": "code",
      "metadata": {
        "id": "iTE-G-1E5_hZ",
        "colab_type": "code",
        "colab": {
          "base_uri": "https://localhost:8080/",
          "height": 49
        },
        "outputId": "52962877-435b-4eb9-c538-e1e91c921ccb"
      },
      "source": [
        "#Since we have the upper & lower bounds set, we will check the salary values at those places\n",
        "\n",
        "train_merged.loc[train_merged.Salary< 8.5]"
      ],
      "execution_count": 313,
      "outputs": [
        {
          "output_type": "execute_result",
          "data": {
            "text/html": [
              "<div>\n",
              "<style scoped>\n",
              "    .dataframe tbody tr th:only-of-type {\n",
              "        vertical-align: middle;\n",
              "    }\n",
              "\n",
              "    .dataframe tbody tr th {\n",
              "        vertical-align: top;\n",
              "    }\n",
              "\n",
              "    .dataframe thead th {\n",
              "        text-align: right;\n",
              "    }\n",
              "</style>\n",
              "<table border=\"1\" class=\"dataframe\">\n",
              "  <thead>\n",
              "    <tr style=\"text-align: right;\">\n",
              "      <th></th>\n",
              "      <th>Job ID</th>\n",
              "      <th>Company ID</th>\n",
              "      <th>Job Type</th>\n",
              "      <th>Degree</th>\n",
              "      <th>Major</th>\n",
              "      <th>Industry</th>\n",
              "      <th>Experience (Years)</th>\n",
              "      <th>Miles from Metropolis</th>\n",
              "      <th>Salary</th>\n",
              "    </tr>\n",
              "  </thead>\n",
              "  <tbody>\n",
              "  </tbody>\n",
              "</table>\n",
              "</div>"
            ],
            "text/plain": [
              "Empty DataFrame\n",
              "Columns: [Job ID, Company ID, Job Type, Degree, Major, Industry, Experience (Years), Miles from Metropolis, Salary]\n",
              "Index: []"
            ]
          },
          "metadata": {
            "tags": []
          },
          "execution_count": 313
        }
      ]
    },
    {
      "cell_type": "markdown",
      "metadata": {
        "id": "pSxlG8nA73vx",
        "colab_type": "text"
      },
      "source": [
        "We have an empty set, meaning no values exist below lower bound"
      ]
    },
    {
      "cell_type": "code",
      "metadata": {
        "id": "vc7ac08W9ifo",
        "colab_type": "code",
        "colab": {
          "base_uri": "https://localhost:8080/",
          "height": 34
        },
        "outputId": "20d08afa-97fa-4776-8e38-0385b2a68dc9"
      },
      "source": [
        "train_merged.loc[train_merged['Salary']>220.5].shape"
      ],
      "execution_count": 314,
      "outputs": [
        {
          "output_type": "execute_result",
          "data": {
            "text/plain": [
              "(7117, 9)"
            ]
          },
          "metadata": {
            "tags": []
          },
          "execution_count": 314
        }
      ]
    },
    {
      "cell_type": "markdown",
      "metadata": {
        "id": "BynL6JdP9tpW",
        "colab_type": "text"
      },
      "source": [
        "There are 7117 jobs that have salaries above the upper bound"
      ]
    },
    {
      "cell_type": "code",
      "metadata": {
        "id": "KHKrbO-F5_fN",
        "colab_type": "code",
        "colab": {
          "base_uri": "https://localhost:8080/",
          "height": 153
        },
        "outputId": "0196a148-9a99-4ab6-ece0-89425fa190e5"
      },
      "source": [
        "#Displaying the different job types with Salaries above upper bound\n",
        "\n",
        "train_merged.loc[train_merged['Salary'] > 220.5, 'Job Type'].value_counts()"
      ],
      "execution_count": 315,
      "outputs": [
        {
          "output_type": "execute_result",
          "data": {
            "text/plain": [
              "CEO               3227\n",
              "CFO               1496\n",
              "CTO               1488\n",
              "VICE_PRESIDENT     603\n",
              "MANAGER            217\n",
              "SENIOR              66\n",
              "JUNIOR              20\n",
              "Name: Job Type, dtype: int64"
            ]
          },
          "metadata": {
            "tags": []
          },
          "execution_count": 315
        }
      ]
    },
    {
      "cell_type": "code",
      "metadata": {
        "id": "Vd1v7I3F5_cb",
        "colab_type": "code",
        "colab": {
          "base_uri": "https://localhost:8080/",
          "height": 669
        },
        "outputId": "5e02e3f5-6bb4-47f5-f1c1-c75d75b12d88"
      },
      "source": [
        "#Trying to analyze the roles with salaries above the upper bound  \n",
        "\n",
        "train_merged[(train_merged['Salary'] > 220.5) & (train_merged['Job Type'] == 'JUNIOR')]"
      ],
      "execution_count": 316,
      "outputs": [
        {
          "output_type": "execute_result",
          "data": {
            "text/html": [
              "<div>\n",
              "<style scoped>\n",
              "    .dataframe tbody tr th:only-of-type {\n",
              "        vertical-align: middle;\n",
              "    }\n",
              "\n",
              "    .dataframe tbody tr th {\n",
              "        vertical-align: top;\n",
              "    }\n",
              "\n",
              "    .dataframe thead th {\n",
              "        text-align: right;\n",
              "    }\n",
              "</style>\n",
              "<table border=\"1\" class=\"dataframe\">\n",
              "  <thead>\n",
              "    <tr style=\"text-align: right;\">\n",
              "      <th></th>\n",
              "      <th>Job ID</th>\n",
              "      <th>Company ID</th>\n",
              "      <th>Job Type</th>\n",
              "      <th>Degree</th>\n",
              "      <th>Major</th>\n",
              "      <th>Industry</th>\n",
              "      <th>Experience (Years)</th>\n",
              "      <th>Miles from Metropolis</th>\n",
              "      <th>Salary</th>\n",
              "    </tr>\n",
              "  </thead>\n",
              "  <tbody>\n",
              "    <tr>\n",
              "      <th>1222</th>\n",
              "      <td>JOB1362684408909</td>\n",
              "      <td>COMP40</td>\n",
              "      <td>JUNIOR</td>\n",
              "      <td>MASTERS</td>\n",
              "      <td>COMPSCI</td>\n",
              "      <td>OIL</td>\n",
              "      <td>24</td>\n",
              "      <td>5</td>\n",
              "      <td>225</td>\n",
              "    </tr>\n",
              "    <tr>\n",
              "      <th>27710</th>\n",
              "      <td>JOB1362684435397</td>\n",
              "      <td>COMP21</td>\n",
              "      <td>JUNIOR</td>\n",
              "      <td>DOCTORAL</td>\n",
              "      <td>ENGINEERING</td>\n",
              "      <td>OIL</td>\n",
              "      <td>24</td>\n",
              "      <td>3</td>\n",
              "      <td>246</td>\n",
              "    </tr>\n",
              "    <tr>\n",
              "      <th>31355</th>\n",
              "      <td>JOB1362684439042</td>\n",
              "      <td>COMP45</td>\n",
              "      <td>JUNIOR</td>\n",
              "      <td>DOCTORAL</td>\n",
              "      <td>COMPSCI</td>\n",
              "      <td>FINANCE</td>\n",
              "      <td>24</td>\n",
              "      <td>0</td>\n",
              "      <td>225</td>\n",
              "    </tr>\n",
              "    <tr>\n",
              "      <th>100042</th>\n",
              "      <td>JOB1362684507729</td>\n",
              "      <td>COMP17</td>\n",
              "      <td>JUNIOR</td>\n",
              "      <td>DOCTORAL</td>\n",
              "      <td>BUSINESS</td>\n",
              "      <td>FINANCE</td>\n",
              "      <td>23</td>\n",
              "      <td>8</td>\n",
              "      <td>248</td>\n",
              "    </tr>\n",
              "    <tr>\n",
              "      <th>160333</th>\n",
              "      <td>JOB1362684568020</td>\n",
              "      <td>COMP18</td>\n",
              "      <td>JUNIOR</td>\n",
              "      <td>DOCTORAL</td>\n",
              "      <td>BUSINESS</td>\n",
              "      <td>FINANCE</td>\n",
              "      <td>22</td>\n",
              "      <td>3</td>\n",
              "      <td>223</td>\n",
              "    </tr>\n",
              "    <tr>\n",
              "      <th>189582</th>\n",
              "      <td>JOB1362684597269</td>\n",
              "      <td>COMP32</td>\n",
              "      <td>JUNIOR</td>\n",
              "      <td>DOCTORAL</td>\n",
              "      <td>BUSINESS</td>\n",
              "      <td>OIL</td>\n",
              "      <td>24</td>\n",
              "      <td>11</td>\n",
              "      <td>221</td>\n",
              "    </tr>\n",
              "    <tr>\n",
              "      <th>214606</th>\n",
              "      <td>JOB1362684622293</td>\n",
              "      <td>COMP47</td>\n",
              "      <td>JUNIOR</td>\n",
              "      <td>MASTERS</td>\n",
              "      <td>BUSINESS</td>\n",
              "      <td>FINANCE</td>\n",
              "      <td>22</td>\n",
              "      <td>4</td>\n",
              "      <td>222</td>\n",
              "    </tr>\n",
              "    <tr>\n",
              "      <th>303778</th>\n",
              "      <td>JOB1362684711465</td>\n",
              "      <td>COMP51</td>\n",
              "      <td>JUNIOR</td>\n",
              "      <td>MASTERS</td>\n",
              "      <td>ENGINEERING</td>\n",
              "      <td>WEB</td>\n",
              "      <td>24</td>\n",
              "      <td>2</td>\n",
              "      <td>226</td>\n",
              "    </tr>\n",
              "    <tr>\n",
              "      <th>348354</th>\n",
              "      <td>JOB1362684756041</td>\n",
              "      <td>COMP56</td>\n",
              "      <td>JUNIOR</td>\n",
              "      <td>DOCTORAL</td>\n",
              "      <td>ENGINEERING</td>\n",
              "      <td>OIL</td>\n",
              "      <td>23</td>\n",
              "      <td>25</td>\n",
              "      <td>226</td>\n",
              "    </tr>\n",
              "    <tr>\n",
              "      <th>427593</th>\n",
              "      <td>JOB1362684835280</td>\n",
              "      <td>COMP54</td>\n",
              "      <td>JUNIOR</td>\n",
              "      <td>DOCTORAL</td>\n",
              "      <td>ENGINEERING</td>\n",
              "      <td>FINANCE</td>\n",
              "      <td>23</td>\n",
              "      <td>3</td>\n",
              "      <td>221</td>\n",
              "    </tr>\n",
              "    <tr>\n",
              "      <th>500739</th>\n",
              "      <td>JOB1362684908426</td>\n",
              "      <td>COMP40</td>\n",
              "      <td>JUNIOR</td>\n",
              "      <td>DOCTORAL</td>\n",
              "      <td>ENGINEERING</td>\n",
              "      <td>OIL</td>\n",
              "      <td>21</td>\n",
              "      <td>0</td>\n",
              "      <td>227</td>\n",
              "    </tr>\n",
              "    <tr>\n",
              "      <th>627534</th>\n",
              "      <td>JOB1362685035221</td>\n",
              "      <td>COMP5</td>\n",
              "      <td>JUNIOR</td>\n",
              "      <td>DOCTORAL</td>\n",
              "      <td>ENGINEERING</td>\n",
              "      <td>OIL</td>\n",
              "      <td>24</td>\n",
              "      <td>29</td>\n",
              "      <td>230</td>\n",
              "    </tr>\n",
              "    <tr>\n",
              "      <th>645555</th>\n",
              "      <td>JOB1362685053242</td>\n",
              "      <td>COMP36</td>\n",
              "      <td>JUNIOR</td>\n",
              "      <td>DOCTORAL</td>\n",
              "      <td>BUSINESS</td>\n",
              "      <td>FINANCE</td>\n",
              "      <td>24</td>\n",
              "      <td>1</td>\n",
              "      <td>225</td>\n",
              "    </tr>\n",
              "    <tr>\n",
              "      <th>656572</th>\n",
              "      <td>JOB1362685064259</td>\n",
              "      <td>COMP28</td>\n",
              "      <td>JUNIOR</td>\n",
              "      <td>DOCTORAL</td>\n",
              "      <td>BUSINESS</td>\n",
              "      <td>OIL</td>\n",
              "      <td>22</td>\n",
              "      <td>3</td>\n",
              "      <td>222</td>\n",
              "    </tr>\n",
              "    <tr>\n",
              "      <th>685775</th>\n",
              "      <td>JOB1362685093462</td>\n",
              "      <td>COMP38</td>\n",
              "      <td>JUNIOR</td>\n",
              "      <td>BACHELORS</td>\n",
              "      <td>ENGINEERING</td>\n",
              "      <td>OIL</td>\n",
              "      <td>24</td>\n",
              "      <td>13</td>\n",
              "      <td>225</td>\n",
              "    </tr>\n",
              "    <tr>\n",
              "      <th>743326</th>\n",
              "      <td>JOB1362685151013</td>\n",
              "      <td>COMP14</td>\n",
              "      <td>JUNIOR</td>\n",
              "      <td>DOCTORAL</td>\n",
              "      <td>BUSINESS</td>\n",
              "      <td>FINANCE</td>\n",
              "      <td>19</td>\n",
              "      <td>0</td>\n",
              "      <td>236</td>\n",
              "    </tr>\n",
              "    <tr>\n",
              "      <th>787674</th>\n",
              "      <td>JOB1362685195361</td>\n",
              "      <td>COMP43</td>\n",
              "      <td>JUNIOR</td>\n",
              "      <td>DOCTORAL</td>\n",
              "      <td>BUSINESS</td>\n",
              "      <td>FINANCE</td>\n",
              "      <td>18</td>\n",
              "      <td>15</td>\n",
              "      <td>232</td>\n",
              "    </tr>\n",
              "    <tr>\n",
              "      <th>796956</th>\n",
              "      <td>JOB1362685204643</td>\n",
              "      <td>COMP30</td>\n",
              "      <td>JUNIOR</td>\n",
              "      <td>MASTERS</td>\n",
              "      <td>BUSINESS</td>\n",
              "      <td>OIL</td>\n",
              "      <td>24</td>\n",
              "      <td>2</td>\n",
              "      <td>228</td>\n",
              "    </tr>\n",
              "    <tr>\n",
              "      <th>855219</th>\n",
              "      <td>JOB1362685262906</td>\n",
              "      <td>COMP13</td>\n",
              "      <td>JUNIOR</td>\n",
              "      <td>MASTERS</td>\n",
              "      <td>ENGINEERING</td>\n",
              "      <td>OIL</td>\n",
              "      <td>22</td>\n",
              "      <td>26</td>\n",
              "      <td>225</td>\n",
              "    </tr>\n",
              "    <tr>\n",
              "      <th>954368</th>\n",
              "      <td>JOB1362685362055</td>\n",
              "      <td>COMP11</td>\n",
              "      <td>JUNIOR</td>\n",
              "      <td>DOCTORAL</td>\n",
              "      <td>BUSINESS</td>\n",
              "      <td>OIL</td>\n",
              "      <td>24</td>\n",
              "      <td>26</td>\n",
              "      <td>223</td>\n",
              "    </tr>\n",
              "  </tbody>\n",
              "</table>\n",
              "</div>"
            ],
            "text/plain": [
              "                  Job ID Company ID  ... Miles from Metropolis Salary\n",
              "1222    JOB1362684408909     COMP40  ...                     5    225\n",
              "27710   JOB1362684435397     COMP21  ...                     3    246\n",
              "31355   JOB1362684439042     COMP45  ...                     0    225\n",
              "100042  JOB1362684507729     COMP17  ...                     8    248\n",
              "160333  JOB1362684568020     COMP18  ...                     3    223\n",
              "189582  JOB1362684597269     COMP32  ...                    11    221\n",
              "214606  JOB1362684622293     COMP47  ...                     4    222\n",
              "303778  JOB1362684711465     COMP51  ...                     2    226\n",
              "348354  JOB1362684756041     COMP56  ...                    25    226\n",
              "427593  JOB1362684835280     COMP54  ...                     3    221\n",
              "500739  JOB1362684908426     COMP40  ...                     0    227\n",
              "627534  JOB1362685035221      COMP5  ...                    29    230\n",
              "645555  JOB1362685053242     COMP36  ...                     1    225\n",
              "656572  JOB1362685064259     COMP28  ...                     3    222\n",
              "685775  JOB1362685093462     COMP38  ...                    13    225\n",
              "743326  JOB1362685151013     COMP14  ...                     0    236\n",
              "787674  JOB1362685195361     COMP43  ...                    15    232\n",
              "796956  JOB1362685204643     COMP30  ...                     2    228\n",
              "855219  JOB1362685262906     COMP13  ...                    26    225\n",
              "954368  JOB1362685362055     COMP11  ...                    26    223\n",
              "\n",
              "[20 rows x 9 columns]"
            ]
          },
          "metadata": {
            "tags": []
          },
          "execution_count": 316
        }
      ]
    },
    {
      "cell_type": "markdown",
      "metadata": {
        "id": "h0UsB3qz3Z7Z",
        "colab_type": "text"
      },
      "source": [
        "### Displaying Correlation between Features and Target Variable"
      ]
    },
    {
      "cell_type": "code",
      "metadata": {
        "id": "g6Nrte3t3kPl",
        "colab_type": "code",
        "colab": {
          "base_uri": "https://localhost:8080/",
          "height": 500
        },
        "outputId": "44eaf6f9-345b-4966-a97f-b054b7013b4e"
      },
      "source": [
        "#Correlation between numerical variables and Salary can be displayed using scatter plots\n",
        "\n",
        "#defining function to create scatter plots\n",
        "def scatter_data(df, lab):\n",
        "    plt.figure(figsize = (12,8))\n",
        "    plt.scatter(df[lab], df['Salary'] )\n",
        "    plt.ylabel('Salary')\n",
        "    plt.xlabel(lab)\n",
        "\n",
        "scatter_data(train_merged , 'Experience (Years)')"
      ],
      "execution_count": 317,
      "outputs": [
        {
          "output_type": "display_data",
          "data": {
            "image/png": "[encoded data removed]",
            "text/plain": [
              "<Figure size 864x576 with 1 Axes>"
            ]
          },
          "metadata": {
            "tags": []
          }
        }
      ]
    },
    {
      "cell_type": "code",
      "metadata": {
        "id": "8RCHxgT93kNI",
        "colab_type": "code",
        "colab": {
          "base_uri": "https://localhost:8080/",
          "height": 283
        },
        "outputId": "eb568000-2957-47ab-9660-68dada0c5f41"
      },
      "source": [
        "#Creating regression plot\n",
        "\n",
        "sns.regplot(x=\"Experience (Years)\", y=\"Salary\", data = train_merged);"
      ],
      "execution_count": 286,
      "outputs": [
        {
          "output_type": "display_data",
          "data": {
            "image/png": "[encoded data removed]",
            "text/plain": [
              "<Figure size 432x288 with 1 Axes>"
            ]
          },
          "metadata": {
            "tags": []
          }
        }
      ]
    },
    {
      "cell_type": "code",
      "metadata": {
        "id": "HtvbIANP3kKx",
        "colab_type": "code",
        "colab": {}
      },
      "source": [
        ""
      ],
      "execution_count": 0,
      "outputs": []
    },
    {
      "cell_type": "markdown",
      "metadata": {
        "id": "tI_5U8NVEjmJ",
        "colab_type": "text"
      },
      "source": [
        "## ---- 5 Establish a baseline ----"
      ]
    },
    {
      "cell_type": "code",
      "metadata": {
        "id": "_vim15SIEjmK",
        "colab_type": "code",
        "colab": {}
      },
      "source": [
        "#select a reasonable metric (MSE in this case)\n",
        "#create an extremely simple model and measure its efficacy\n",
        "#e.g. use \"average salary\" for each industry as your model and then measure MSE\n",
        "#during 5-fold cross-validation"
      ],
      "execution_count": 0,
      "outputs": []
    },
    {
      "cell_type": "markdown",
      "metadata": {
        "id": "AOdMCCPCEjmO",
        "colab_type": "text"
      },
      "source": [
        "## ---- 6 Hypothesize solution ----"
      ]
    },
    {
      "cell_type": "code",
      "metadata": {
        "id": "aq__CEmKEjmP",
        "colab_type": "code",
        "colab": {}
      },
      "source": [
        "#brainstorm 3 models that you think may improve results over the baseline model based\n",
        "#on your "
      ],
      "execution_count": 0,
      "outputs": []
    },
    {
      "cell_type": "markdown",
      "metadata": {
        "id": "uMqH-7GDEjmV",
        "colab_type": "text"
      },
      "source": [
        "Brainstorm 3 models that you think may improve results over the baseline model based on your EDA and explain why they're reasonable solutions here.\n",
        "\n",
        "Also write down any new features that you think you should try adding to the model based on your EDA, e.g. interaction variables, summary statistics for each group, etc"
      ]
    },
    {
      "cell_type": "markdown",
      "metadata": {
        "id": "N-iz5GdzEjmX",
        "colab_type": "text"
      },
      "source": [
        "# Part 3 - DEVELOP"
      ]
    },
    {
      "cell_type": "markdown",
      "metadata": {
        "id": "So3BFAVeEjma",
        "colab_type": "text"
      },
      "source": [
        "You will cycle through creating features, tuning models, and training/validing models (steps 7-9) until you've reached your efficacy goal\n",
        "\n",
        "#### Your metric will be MSE and your goal is:\n",
        " - <360 for entry-level data science roles\n",
        " - <320 for senior data science roles"
      ]
    },
    {
      "cell_type": "markdown",
      "metadata": {
        "id": "SH3nnHgEEjmc",
        "colab_type": "text"
      },
      "source": [
        "### ---- 7 Engineer features  ----"
      ]
    },
    {
      "cell_type": "code",
      "metadata": {
        "id": "jOfzW_i8Ejmf",
        "colab_type": "code",
        "colab": {}
      },
      "source": [
        "#make sure that data is ready for modeling\n",
        "#create any new features needed to potentially enhance model"
      ],
      "execution_count": 0,
      "outputs": []
    },
    {
      "cell_type": "markdown",
      "metadata": {
        "id": "ZcK8jIejEjmk",
        "colab_type": "text"
      },
      "source": [
        "### ---- 8 Create models ----"
      ]
    },
    {
      "cell_type": "code",
      "metadata": {
        "id": "CQKYv2lhEjml",
        "colab_type": "code",
        "colab": {}
      },
      "source": [
        "#create and tune the models that you brainstormed during part 2"
      ],
      "execution_count": 0,
      "outputs": []
    },
    {
      "cell_type": "markdown",
      "metadata": {
        "id": "nKwlROojEjmp",
        "colab_type": "text"
      },
      "source": [
        "### ---- 9 Test models ----"
      ]
    },
    {
      "cell_type": "code",
      "metadata": {
        "id": "a6S3U04pEjmq",
        "colab_type": "code",
        "colab": {}
      },
      "source": [
        "#do 5-fold cross validation on models and measure MSE"
      ],
      "execution_count": 0,
      "outputs": []
    },
    {
      "cell_type": "markdown",
      "metadata": {
        "id": "2pBISX3zEjmt",
        "colab_type": "text"
      },
      "source": [
        "### ---- 10 Select best model  ----"
      ]
    },
    {
      "cell_type": "code",
      "metadata": {
        "id": "26wD0jvnEjmu",
        "colab_type": "code",
        "colab": {}
      },
      "source": [
        "#select the model with the lowest error as your \"prodcuction\" model"
      ],
      "execution_count": 0,
      "outputs": []
    },
    {
      "cell_type": "markdown",
      "metadata": {
        "id": "wUFFEDOJEjmx",
        "colab_type": "text"
      },
      "source": [
        "# Part 4 - DEPLOY"
      ]
    },
    {
      "cell_type": "markdown",
      "metadata": {
        "id": "uns2j_e2Ejmy",
        "colab_type": "text"
      },
      "source": [
        "### ---- 11 Automate pipeline ----"
      ]
    },
    {
      "cell_type": "code",
      "metadata": {
        "id": "LcN4JiA6Ejmz",
        "colab_type": "code",
        "colab": {}
      },
      "source": [
        "#write script that trains model on entire training set, saves model to disk,\n",
        "#and scores the \"test\" dataset"
      ],
      "execution_count": 0,
      "outputs": []
    },
    {
      "cell_type": "markdown",
      "metadata": {
        "id": "5HXYBtG6Ejm3",
        "colab_type": "text"
      },
      "source": [
        "### ---- 12 Deploy solution ----"
      ]
    },
    {
      "cell_type": "code",
      "metadata": {
        "id": "3GOwfKZ6Ejm4",
        "colab_type": "code",
        "colab": {}
      },
      "source": [
        "#save your prediction to a csv file or optionally save them as a table in a SQL database\n",
        "#additionally, you want to save a visualization and summary of your prediction and feature importances\n",
        "#these visualizations and summaries will be extremely useful to business stakeholders"
      ],
      "execution_count": 0,
      "outputs": []
    },
    {
      "cell_type": "markdown",
      "metadata": {
        "id": "pSZOOPkQEjm7",
        "colab_type": "text"
      },
      "source": [
        "### ---- 13 Measure efficacy ----"
      ]
    },
    {
      "cell_type": "markdown",
      "metadata": {
        "id": "jH7XpuY0Ejm8",
        "colab_type": "text"
      },
      "source": [
        "We'll skip this step since we don't have the outcomes for the test data"
      ]
    },
    {
      "cell_type": "code",
      "metadata": {
        "id": "fIygVxFiEjm9",
        "colab_type": "code",
        "colab": {}
      },
      "source": [
        ""
      ],
      "execution_count": 0,
      "outputs": []
    },
    {
      "cell_type": "code",
      "metadata": {
        "id": "mrk9yydkEjnD",
        "colab_type": "code",
        "colab": {}
      },
      "source": [
        ""
      ],
      "execution_count": 0,
      "outputs": []
    },
    {
      "cell_type": "code",
      "metadata": {
        "id": "UIOHt-PXEjnN",
        "colab_type": "code",
        "colab": {}
      },
      "source": [
        ""
      ],
      "execution_count": 0,
      "outputs": []
    },
    {
      "cell_type": "code",
      "metadata": {
        "id": "V10f6UPmEjnX",
        "colab_type": "code",
        "colab": {}
      },
      "source": [
        ""
      ],
      "execution_count": 0,
      "outputs": []
    }
  ]
}